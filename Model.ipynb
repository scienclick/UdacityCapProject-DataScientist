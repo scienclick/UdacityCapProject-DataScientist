{
 "cells": [
  {
   "cell_type": "markdown",
   "metadata": {},
   "source": [
    "# Impact of news on stock "
   ]
  },
  {
   "cell_type": "markdown",
   "metadata": {},
   "source": [
    "## Introduction:\n",
    "This project is the Capstone project for Udacity course Data Scientist Nanodegree. The objective here is to find the impact of the news on stock movements. It worth mentioning that Kaggle also is running a similar competition, and this project is not relevant to that by no means. Neither the data nor the algorithms."
   ]
  },
  {
   "cell_type": "markdown",
   "metadata": {},
   "source": [
    "## project structure:\n",
    "This project has three major components:\n",
    "\n",
    "- **Scraping news:**\n",
    "    For this purpose, Scrappy library is used in petrel. Every 1 hour a Crontab job automatically reads news from few news pages.\n",
    "    \n",
    "- **prediction using ML algorithms:**\n",
    "    Current note book shows some fundamental ML approaches, that I had taken in in order to come up with a reasonable model.\n",
    "    \n",
    "- **Serving the results in a backend server:**\n",
    "    The data is stored in a Linux based virtual private server, using Django Rest Framework.\n"
   ]
  },
  {
   "cell_type": "markdown",
   "metadata": {},
   "source": [
    "## Project results\n",
    "The final back can be found in the following url:\n",
    "\n",
    "http://142.93.32.119/api/\n",
    "\n",
    "it contains two endpoints; **news** in which news has been stored. Here *up* and *down* fields actually are the probability prediction of the ML model (developed in this notebook) based on the news content. For example, \"up\"=0.6 means that the news content is 60% likely to be a positive news associated with increasing stock.\n",
    "\n",
    "The other endpoint **entity** where the entities of each news has been stored for statistical purposes."
   ]
  },
  {
   "cell_type": "markdown",
   "metadata": {},
   "source": [
    "## Developing Machine learning model"
   ]
  },
  {
   "cell_type": "markdown",
   "metadata": {},
   "source": [
    "Before starting the modeling, I should mention that bellow is analysis on two different data set. First data set has taken much more effort to collect but, results are not so good. second model gives better results and that is the model which is currently deployed in backend."
   ]
  },
  {
   "cell_type": "markdown",
   "metadata": {},
   "source": [
    "## Dataset #1"
   ]
  },
  {
   "cell_type": "markdown",
   "metadata": {},
   "source": [
    "### 0- Importing required  data"
   ]
  },
  {
   "cell_type": "code",
   "execution_count": 1,
   "metadata": {},
   "outputs": [],
   "source": [
    "import pandas as pd\n",
    "import numpy as np\n",
    "import re\n",
    "from sklearn.feature_extraction.text import CountVectorizer, TfidfTransformer,TfidfVectorizer\n",
    "from sklearn.model_selection import KFold, cross_val_score,train_test_split,GridSearchCV\n",
    "from sklearn.metrics import precision_recall_fscore_support as score\n",
    "from sklearn.base import BaseEstimator, TransformerMixin\n",
    "from sklearn.ensemble import GradientBoostingClassifier\n",
    "from sklearn.ensemble import RandomForestClassifier\n",
    "from sklearn.pipeline import Pipeline, FeatureUnion\n",
    "from sklearn.naive_bayes import MultinomialNB\n",
    "from sklearn.metrics import confusion_matrix\n",
    "from sklearn import metrics\n",
    "import nltk\n",
    "from nltk.tokenize import word_tokenize\n",
    "from nltk.stem.wordnet import WordNetLemmatizer\n",
    "lemmatizer = WordNetLemmatizer()\n",
    "stop_words = nltk.corpus.stopwords.words(\"english\")\n",
    "from sklearn.ensemble import AdaBoostClassifier\n",
    "from sklearn.ensemble import RandomForestClassifier\n",
    "from sklearn.linear_model import LogisticRegression\n",
    "from sklearn.naive_bayes import GaussianNB\n",
    "from sklearn.svm import SVC\n",
    "from sklearn.svm import LinearSVC\n",
    "from sklearn.ensemble import AdaBoostClassifier\n",
    "from sklearn.ensemble import GradientBoostingClassifier\n",
    "from sklearn.naive_bayes import MultinomialNB\n",
    "from sklearn.pipeline import make_pipeline\n",
    "from sklearn.preprocessing import StandardScaler, OneHotEncoder,MinMaxScaler\n",
    "from sklearn.compose import ColumnTransformer, make_column_transformer\n",
    "%matplotlib inline\n",
    "import matplotlib.pyplot as plt\n",
    "from sklearn import metrics\n",
    "from sklearn.model_selection import ShuffleSplit,learning_curve"
   ]
  },
  {
   "cell_type": "markdown",
   "metadata": {},
   "source": [
    "### 1- Data import\n",
    "This data has been scraped from many different sourses and has been put together. For the sake of briviet I skiped all different data processings as it will overwhelm the note book."
   ]
  },
  {
   "cell_type": "code",
   "execution_count": 2,
   "metadata": {},
   "outputs": [],
   "source": [
    "alldata=pd.read_csv(\"Alpha_stock_indicators_sectors.csv\",index_col=0)"
   ]
  },
  {
   "cell_type": "code",
   "execution_count": 3,
   "metadata": {},
   "outputs": [
    {
     "data": {
      "text/plain": [
       "Index(['sym', 'title1', 'newstime', 'desc', 'newstime2', 'yesterdayHigh',\n",
       "       'yesterdayLow', 'yesterdayOpen', 'yesterdayClose', 'yesterdayVolume',\n",
       "       'yesterdayAdjClose', 'nextdayHigh', 'nextdayLow', 'nextdayOpen',\n",
       "       'nextdayClose', 'nextdayVolume', 'nextdayAdjClose', 'sector',\n",
       "       'industry', 'SPchangeHigh', 'SPchangeLow', 'SPchangeOpen',\n",
       "       'SPchangeClose', 'SPchangeVolume', 'SPchangeAdjClose', 'DJIchangeHigh',\n",
       "       'DJIchangeLow', 'DJIchangeOpen', 'DJIchangeClose', 'DJIchangeVolume',\n",
       "       'DJIchangeAdjClose', 'IXICchangeHigh', 'IXICchangeLow',\n",
       "       'IXICchangeOpen', 'IXICchangeClose', 'IXICchangeVolume',\n",
       "       'IXICchangeAdjClose', 'N225changeHigh', 'N225changeLow',\n",
       "       'N225changeOpen', 'N225changeClose', 'N225changeVolume',\n",
       "       'N225changeAdjClose', 'GoldchangeHigh', 'GoldchangeLow',\n",
       "       'GoldchangeOpen', 'GoldchangeClose', 'GoldchangeVolume',\n",
       "       'GoldchangeAdjClose', 'OilchangeHigh', 'OilchangeLow', 'OilchangeOpen',\n",
       "       'OilchangeClose', 'OilchangeVolume', 'OilchangeAdjClose'],\n",
       "      dtype='object')"
      ]
     },
     "execution_count": 3,
     "metadata": {},
     "output_type": "execute_result"
    }
   ],
   "source": [
    "alldata.columns"
   ]
  },
  {
   "cell_type": "code",
   "execution_count": 4,
   "metadata": {},
   "outputs": [
    {
     "data": {
      "text/html": [
       "<div>\n",
       "<style scoped>\n",
       "    .dataframe tbody tr th:only-of-type {\n",
       "        vertical-align: middle;\n",
       "    }\n",
       "\n",
       "    .dataframe tbody tr th {\n",
       "        vertical-align: top;\n",
       "    }\n",
       "\n",
       "    .dataframe thead th {\n",
       "        text-align: right;\n",
       "    }\n",
       "</style>\n",
       "<table border=\"1\" class=\"dataframe\">\n",
       "  <thead>\n",
       "    <tr style=\"text-align: right;\">\n",
       "      <th></th>\n",
       "      <th>sym</th>\n",
       "      <th>title1</th>\n",
       "      <th>newstime</th>\n",
       "      <th>desc</th>\n",
       "      <th>newstime2</th>\n",
       "      <th>yesterdayHigh</th>\n",
       "      <th>yesterdayLow</th>\n",
       "      <th>yesterdayOpen</th>\n",
       "      <th>yesterdayClose</th>\n",
       "      <th>yesterdayVolume</th>\n",
       "      <th>...</th>\n",
       "      <th>GoldchangeOpen</th>\n",
       "      <th>GoldchangeClose</th>\n",
       "      <th>GoldchangeVolume</th>\n",
       "      <th>GoldchangeAdjClose</th>\n",
       "      <th>OilchangeHigh</th>\n",
       "      <th>OilchangeLow</th>\n",
       "      <th>OilchangeOpen</th>\n",
       "      <th>OilchangeClose</th>\n",
       "      <th>OilchangeVolume</th>\n",
       "      <th>OilchangeAdjClose</th>\n",
       "    </tr>\n",
       "  </thead>\n",
       "  <tbody>\n",
       "    <tr>\n",
       "      <th>0</th>\n",
       "      <td>TROW</td>\n",
       "      <td>T. Rowe Price sells most of its Tesla shares</td>\n",
       "      <td>Wed, May 15, 10:47 PM</td>\n",
       "      <td>T. Rowe Price (NASDAQ:TROW) sold more than 80%...</td>\n",
       "      <td>2019-05-15 22:47:00</td>\n",
       "      <td>104.559998</td>\n",
       "      <td>101.989998</td>\n",
       "      <td>102.059998</td>\n",
       "      <td>103.959999</td>\n",
       "      <td>928100.0</td>\n",
       "      <td>...</td>\n",
       "      <td>0.000897</td>\n",
       "      <td>-0.000572</td>\n",
       "      <td>0.853672</td>\n",
       "      <td>-0.000572</td>\n",
       "      <td>0.005362</td>\n",
       "      <td>-0.003972</td>\n",
       "      <td>-0.006025</td>\n",
       "      <td>0.009107</td>\n",
       "      <td>-0.738832</td>\n",
       "      <td>0.009107</td>\n",
       "    </tr>\n",
       "    <tr>\n",
       "      <th>1</th>\n",
       "      <td>GCI</td>\n",
       "      <td>Gannett to retain all seats in MNG proxy fight...</td>\n",
       "      <td>Wed, May 15, 10:33 PM</td>\n",
       "      <td>Gannett (NYSE:GCI) looks likely to retain all ...</td>\n",
       "      <td>2019-05-15 22:33:00</td>\n",
       "      <td>8.915000</td>\n",
       "      <td>8.650000</td>\n",
       "      <td>8.720000</td>\n",
       "      <td>8.870000</td>\n",
       "      <td>722100.0</td>\n",
       "      <td>...</td>\n",
       "      <td>0.000897</td>\n",
       "      <td>-0.000572</td>\n",
       "      <td>0.853672</td>\n",
       "      <td>-0.000572</td>\n",
       "      <td>0.005362</td>\n",
       "      <td>-0.003972</td>\n",
       "      <td>-0.006025</td>\n",
       "      <td>0.009107</td>\n",
       "      <td>-0.738832</td>\n",
       "      <td>0.009107</td>\n",
       "    </tr>\n",
       "    <tr>\n",
       "      <th>2</th>\n",
       "      <td>XPO</td>\n",
       "      <td>XPO shareholders support exec pay plan, reject...</td>\n",
       "      <td>Wed, May 15, 10:29 PM</td>\n",
       "      <td>XPO Logistics' (NYSE:XPO) shareholders have ra...</td>\n",
       "      <td>2019-05-15 22:29:00</td>\n",
       "      <td>58.580002</td>\n",
       "      <td>56.279999</td>\n",
       "      <td>57.150002</td>\n",
       "      <td>58.360001</td>\n",
       "      <td>1333600.0</td>\n",
       "      <td>...</td>\n",
       "      <td>0.000897</td>\n",
       "      <td>-0.000572</td>\n",
       "      <td>0.853672</td>\n",
       "      <td>-0.000572</td>\n",
       "      <td>0.005362</td>\n",
       "      <td>-0.003972</td>\n",
       "      <td>-0.006025</td>\n",
       "      <td>0.009107</td>\n",
       "      <td>-0.738832</td>\n",
       "      <td>0.009107</td>\n",
       "    </tr>\n",
       "    <tr>\n",
       "      <th>3</th>\n",
       "      <td>MGNX</td>\n",
       "      <td>MacroGenics +13.1% on new data from breast can...</td>\n",
       "      <td>Wed, May 15, 6:53 PM</td>\n",
       "      <td>MacroGenics (NASDAQ:MGNX) is up 13.1% in postm...</td>\n",
       "      <td>2019-05-15 18:53:00</td>\n",
       "      <td>16.400000</td>\n",
       "      <td>15.240000</td>\n",
       "      <td>16.400000</td>\n",
       "      <td>16.270000</td>\n",
       "      <td>2031600.0</td>\n",
       "      <td>...</td>\n",
       "      <td>0.000897</td>\n",
       "      <td>-0.000572</td>\n",
       "      <td>0.853672</td>\n",
       "      <td>-0.000572</td>\n",
       "      <td>0.005362</td>\n",
       "      <td>-0.003972</td>\n",
       "      <td>-0.006025</td>\n",
       "      <td>0.009107</td>\n",
       "      <td>-0.738832</td>\n",
       "      <td>0.009107</td>\n",
       "    </tr>\n",
       "    <tr>\n",
       "      <th>4</th>\n",
       "      <td>BG</td>\n",
       "      <td>Bunge looks to downsize before growing again, ...</td>\n",
       "      <td>Wed, May 15, 6:48 PM</td>\n",
       "      <td>New Bunge (NYSE:BG) CEO Greg Heckman says the ...</td>\n",
       "      <td>2019-05-15 18:48:00</td>\n",
       "      <td>53.650002</td>\n",
       "      <td>52.389999</td>\n",
       "      <td>52.490002</td>\n",
       "      <td>53.270000</td>\n",
       "      <td>998200.0</td>\n",
       "      <td>...</td>\n",
       "      <td>0.000897</td>\n",
       "      <td>-0.000572</td>\n",
       "      <td>0.853672</td>\n",
       "      <td>-0.000572</td>\n",
       "      <td>0.005362</td>\n",
       "      <td>-0.003972</td>\n",
       "      <td>-0.006025</td>\n",
       "      <td>0.009107</td>\n",
       "      <td>-0.738832</td>\n",
       "      <td>0.009107</td>\n",
       "    </tr>\n",
       "  </tbody>\n",
       "</table>\n",
       "<p>5 rows × 55 columns</p>\n",
       "</div>"
      ],
      "text/plain": [
       "    sym                                             title1  \\\n",
       "0  TROW       T. Rowe Price sells most of its Tesla shares   \n",
       "1   GCI  Gannett to retain all seats in MNG proxy fight...   \n",
       "2   XPO  XPO shareholders support exec pay plan, reject...   \n",
       "3  MGNX  MacroGenics +13.1% on new data from breast can...   \n",
       "4    BG  Bunge looks to downsize before growing again, ...   \n",
       "\n",
       "                newstime                                               desc  \\\n",
       "0  Wed, May 15, 10:47 PM  T. Rowe Price (NASDAQ:TROW) sold more than 80%...   \n",
       "1  Wed, May 15, 10:33 PM  Gannett (NYSE:GCI) looks likely to retain all ...   \n",
       "2  Wed, May 15, 10:29 PM  XPO Logistics' (NYSE:XPO) shareholders have ra...   \n",
       "3   Wed, May 15, 6:53 PM  MacroGenics (NASDAQ:MGNX) is up 13.1% in postm...   \n",
       "4   Wed, May 15, 6:48 PM  New Bunge (NYSE:BG) CEO Greg Heckman says the ...   \n",
       "\n",
       "             newstime2  yesterdayHigh  yesterdayLow  yesterdayOpen  \\\n",
       "0  2019-05-15 22:47:00     104.559998    101.989998     102.059998   \n",
       "1  2019-05-15 22:33:00       8.915000      8.650000       8.720000   \n",
       "2  2019-05-15 22:29:00      58.580002     56.279999      57.150002   \n",
       "3  2019-05-15 18:53:00      16.400000     15.240000      16.400000   \n",
       "4  2019-05-15 18:48:00      53.650002     52.389999      52.490002   \n",
       "\n",
       "   yesterdayClose  yesterdayVolume        ...          GoldchangeOpen  \\\n",
       "0      103.959999         928100.0        ...                0.000897   \n",
       "1        8.870000         722100.0        ...                0.000897   \n",
       "2       58.360001        1333600.0        ...                0.000897   \n",
       "3       16.270000        2031600.0        ...                0.000897   \n",
       "4       53.270000         998200.0        ...                0.000897   \n",
       "\n",
       "   GoldchangeClose  GoldchangeVolume  GoldchangeAdjClose  OilchangeHigh  \\\n",
       "0        -0.000572          0.853672           -0.000572       0.005362   \n",
       "1        -0.000572          0.853672           -0.000572       0.005362   \n",
       "2        -0.000572          0.853672           -0.000572       0.005362   \n",
       "3        -0.000572          0.853672           -0.000572       0.005362   \n",
       "4        -0.000572          0.853672           -0.000572       0.005362   \n",
       "\n",
       "   OilchangeLow  OilchangeOpen OilchangeClose OilchangeVolume  \\\n",
       "0     -0.003972      -0.006025       0.009107       -0.738832   \n",
       "1     -0.003972      -0.006025       0.009107       -0.738832   \n",
       "2     -0.003972      -0.006025       0.009107       -0.738832   \n",
       "3     -0.003972      -0.006025       0.009107       -0.738832   \n",
       "4     -0.003972      -0.006025       0.009107       -0.738832   \n",
       "\n",
       "   OilchangeAdjClose  \n",
       "0           0.009107  \n",
       "1           0.009107  \n",
       "2           0.009107  \n",
       "3           0.009107  \n",
       "4           0.009107  \n",
       "\n",
       "[5 rows x 55 columns]"
      ]
     },
     "execution_count": 4,
     "metadata": {},
     "output_type": "execute_result"
    }
   ],
   "source": [
    "alldata.head()"
   ]
  },
  {
   "cell_type": "markdown",
   "metadata": {},
   "source": [
    "#### Brief Data explanation\n",
    "\n",
    "sym: company sumbol\n",
    "\n",
    "**title**: title news about the company\n",
    "\n",
    "**newstim**: time of the news\n",
    "\n",
    "**desc**: news content\n",
    "\n",
    "**newstime2**: standardizing all the dates\n",
    "\n",
    "**yesterdayHigh**:High pricefor day before news\n",
    "\n",
    "**yesterdayLow**: Low pricefor day before news\n",
    "\n",
    "**yesterdayOpen**:Open price for day before news\n",
    "\n",
    "**yesterdayClose**: Close price for day before news\n",
    "\n",
    "**yesterdayVolume**:Volume for day before news\n",
    "\n",
    "**yesterdayAdjClose**: AdjClose for day before news\n",
    "\n",
    "**nextdayHigh**: High price for day after news\n",
    "\n",
    "**nextdayLow**: Low price for day after news\n",
    "\n",
    "**nextdayOpen**:Open price for day after news\n",
    "\n",
    "**nextdayClose**:Close price for day after news\n",
    "\n",
    "**nextdayVolume**: Volume for day after news\n",
    "\n",
    "**nextdayAdjClose**:Close price for day after news \n",
    "\n",
    "**sector**: sector that company belongs to\n",
    "\n",
    "\n",
    "on the list bellow there are opening, closing high,low, volume, adjclose  changes for price for\n",
    "SP: S&P500\n",
    "\n",
    "**DJI: Dow Jones Industrial Average**\n",
    "\n",
    "**IXIC:NASDAQ Composite**\n",
    "\n",
    "**N225: Nikkei 225**\n",
    "\n",
    "**Oil: oil price**\n",
    "\n",
    "**Gold: Gold price**\n",
    "\n",
    "\n",
    "\n",
    "'industry', 'SPchangeHigh', 'SPchangeLow', 'SPchangeOpen',\n",
    "'SPchangeClose', 'SPchangeVolume', 'SPchangeAdjClose', 'DJIchangeHigh',\n",
    "'DJIchangeLow', 'DJIchangeOpen', 'DJIchangeClose', 'DJIchangeVolume',\n",
    "'DJIchangeAdjClose', 'IXICchangeHigh', 'IXICchangeLow',\n",
    "'IXICchangeOpen', 'IXICchangeClose', 'IXICchangeVolume',\n",
    "'IXICchangeAdjClose', 'N225changeHigh', 'N225changeLow',\n",
    "'N225changeOpen', 'N225changeClose', 'N225changeVolume',\n",
    "'N225changeAdjClose', 'GoldchangeHigh', 'GoldchangeLow',\n",
    "'GoldchangeOpen', 'GoldchangeClose', 'GoldchangeVolume',\n",
    "'GoldchangeAdjClose', 'OilchangeHigh', 'OilchangeLow', 'OilchangeOpen',\n",
    "'OilchangeClose', 'OilchangeVolume', 'OilchangeAdjClose',\n",
    "\n"
   ]
  },
  {
   "cell_type": "code",
   "execution_count": 5,
   "metadata": {},
   "outputs": [
    {
     "data": {
      "text/plain": [
       "(45449, 55)"
      ]
     },
     "execution_count": 5,
     "metadata": {},
     "output_type": "execute_result"
    }
   ],
   "source": [
    "alldata.shape"
   ]
  },
  {
   "cell_type": "code",
   "execution_count": 6,
   "metadata": {},
   "outputs": [
    {
     "data": {
      "text/plain": [
       "(33622, 55)"
      ]
     },
     "execution_count": 6,
     "metadata": {},
     "output_type": "execute_result"
    }
   ],
   "source": [
    "alldata.dropna(inplace=True)\n",
    "alldata.shape"
   ]
  },
  {
   "cell_type": "code",
   "execution_count": 7,
   "metadata": {},
   "outputs": [
    {
     "data": {
      "text/plain": [
       "sym                   0\n",
       "title1                0\n",
       "newstime              0\n",
       "desc                  0\n",
       "newstime2             0\n",
       "yesterdayHigh         0\n",
       "yesterdayLow          0\n",
       "yesterdayOpen         0\n",
       "yesterdayClose        0\n",
       "yesterdayVolume       0\n",
       "yesterdayAdjClose     0\n",
       "nextdayHigh           0\n",
       "nextdayLow            0\n",
       "nextdayOpen           0\n",
       "nextdayClose          0\n",
       "nextdayVolume         0\n",
       "nextdayAdjClose       0\n",
       "sector                0\n",
       "industry              0\n",
       "SPchangeHigh          0\n",
       "SPchangeLow           0\n",
       "SPchangeOpen          0\n",
       "SPchangeClose         0\n",
       "SPchangeVolume        0\n",
       "SPchangeAdjClose      0\n",
       "DJIchangeHigh         0\n",
       "DJIchangeLow          0\n",
       "DJIchangeOpen         0\n",
       "DJIchangeClose        0\n",
       "DJIchangeVolume       0\n",
       "DJIchangeAdjClose     0\n",
       "IXICchangeHigh        0\n",
       "IXICchangeLow         0\n",
       "IXICchangeOpen        0\n",
       "IXICchangeClose       0\n",
       "IXICchangeVolume      0\n",
       "IXICchangeAdjClose    0\n",
       "N225changeHigh        0\n",
       "N225changeLow         0\n",
       "N225changeOpen        0\n",
       "N225changeClose       0\n",
       "N225changeVolume      0\n",
       "N225changeAdjClose    0\n",
       "GoldchangeHigh        0\n",
       "GoldchangeLow         0\n",
       "GoldchangeOpen        0\n",
       "GoldchangeClose       0\n",
       "GoldchangeVolume      0\n",
       "GoldchangeAdjClose    0\n",
       "OilchangeHigh         0\n",
       "OilchangeLow          0\n",
       "OilchangeOpen         0\n",
       "OilchangeClose        0\n",
       "OilchangeVolume       0\n",
       "OilchangeAdjClose     0\n",
       "dtype: int64"
      ]
     },
     "execution_count": 7,
     "metadata": {},
     "output_type": "execute_result"
    }
   ],
   "source": [
    "alldata.isnull().sum()"
   ]
  },
  {
   "cell_type": "markdown",
   "metadata": {},
   "source": [
    "## 2- Tagging data\n",
    "here we find out difference of the price on day before and after and call it *nextHigh-yestHigh*"
   ]
  },
  {
   "cell_type": "code",
   "execution_count": 8,
   "metadata": {},
   "outputs": [
    {
     "data": {
      "text/plain": [
       "<matplotlib.axes._subplots.AxesSubplot at 0x180189fde80>"
      ]
     },
     "execution_count": 8,
     "metadata": {},
     "output_type": "execute_result"
    },
    {
     "data": {
      "image/png": "[encoded data removed]",
      "text/plain": [
       "<Figure size 432x288 with 1 Axes>"
      ]
     },
     "metadata": {},
     "output_type": "display_data"
    }
   ],
   "source": [
    "alldata[\"nextHigh-yestHigh\"]=alldata[\"nextdayHigh\"]/alldata[\"yesterdayHigh\"]-1\n",
    "alldata=alldata[alldata[\"nextHigh-yestHigh\"]<1]\n",
    "alldata[\"nextHigh-yestHigh\"].hist(bins=50)"
   ]
  },
  {
   "cell_type": "markdown",
   "metadata": {},
   "source": [
    "if price is increased (positive), then give it \"buy\" tag, otherwise \"sell\" tag"
   ]
  },
  {
   "cell_type": "code",
   "execution_count": 9,
   "metadata": {},
   "outputs": [
    {
     "data": {
      "text/plain": [
       "down    17141\n",
       "up      16412\n",
       "Name: tag, dtype: int64"
      ]
     },
     "execution_count": 9,
     "metadata": {},
     "output_type": "execute_result"
    }
   ],
   "source": [
    "def tagmaker2(x):\n",
    "    if x>0:\n",
    "        return \"up\"\n",
    "    else :\n",
    "        return \"down\"\n",
    "alldata[\"tag\"]=alldata[\"nextHigh-yestHigh\"].apply(lambda x:tagmaker2(x))\n",
    "alldata[\"tag\"].value_counts()"
   ]
  },
  {
   "cell_type": "markdown",
   "metadata": {},
   "source": [
    "## 3- defining required functions"
   ]
  },
  {
   "cell_type": "code",
   "execution_count": 10,
   "metadata": {},
   "outputs": [],
   "source": [
    "def tokenize(text):\n",
    "    '''this method does the following\n",
    "    1. normalizing all the words to lower size\n",
    "    2. removes punctuations\n",
    "    3. splits the words\n",
    "    4. removes the stopwords like am,is,have,you,...\n",
    "    5. lammetizes the words for example running-->run\n",
    "    '''\n",
    "    text = re.sub(r\"[^a-zA-Z0-9]\", \" \", text.lower())    # normalize case and remove punctuation\n",
    "    tokens = word_tokenize(text)    # tokenize text\n",
    "    tokens = [lemmatizer.lemmatize(word) for word in tokens if word not in stop_words]    # lemmatize andremove stop words\n",
    "    return tokens\n",
    "\n",
    "def display_results(y_test, y_pred):\n",
    "    '''\n",
    "    function to display confusion matrix\n",
    "    '''\n",
    "    labels = np.unique(y_pred)\n",
    "    confusion_mat = confusion_matrix(y_test, y_pred, labels=labels)\n",
    "    accuracy = (y_pred == y_test).mean()\n",
    "\n",
    "    print(\"Labels:\", labels)\n",
    "    print(\"Confusion Matrix:\\n\", confusion_mat)\n",
    "    print(\"Accuracy:\", accuracy)\n",
    "    df=pd.DataFrame(metrics.confusion_matrix(y_test,y_pred),index=labels,columns=labels)\n",
    "    return df"
   ]
  },
  {
   "cell_type": "markdown",
   "metadata": {},
   "source": [
    "## 4- defining features and targets"
   ]
  },
  {
   "cell_type": "code",
   "execution_count": 11,
   "metadata": {},
   "outputs": [
    {
     "name": "stdout",
     "output_type": "stream",
     "text": [
      "rows in the original data set: 33553\n",
      "rows in the training set: 26842\n",
      "rows in the test set: 6711\n"
     ]
    }
   ],
   "source": [
    "alldata['desc-title']=alldata['title1']+\" \"+alldata['desc']\n",
    "features=alldata[['desc-title','SPchangeHigh',\"OilchangeHigh\", 'GoldchangeHigh','IXICchangeHigh', 'DJIchangeHigh','N225changeHigh','sector']]\n",
    "target=alldata['tag']\n",
    "X_train, X_test, y_train, y_test = train_test_split(features,target,  random_state=444,test_size=.2)\n",
    "print('rows in the original data set: {}'.format(alldata.shape[0]))\n",
    "print('rows in the training set: {}'.format(X_train.shape[0]))\n",
    "print('rows in the test set: {}'.format(X_test.shape[0]))"
   ]
  },
  {
   "cell_type": "code",
   "execution_count": 12,
   "metadata": {},
   "outputs": [
    {
     "data": {
      "text/html": [
       "<div>\n",
       "<style scoped>\n",
       "    .dataframe tbody tr th:only-of-type {\n",
       "        vertical-align: middle;\n",
       "    }\n",
       "\n",
       "    .dataframe tbody tr th {\n",
       "        vertical-align: top;\n",
       "    }\n",
       "\n",
       "    .dataframe thead th {\n",
       "        text-align: right;\n",
       "    }\n",
       "</style>\n",
       "<table border=\"1\" class=\"dataframe\">\n",
       "  <thead>\n",
       "    <tr style=\"text-align: right;\">\n",
       "      <th></th>\n",
       "      <th>desc-title</th>\n",
       "      <th>SPchangeHigh</th>\n",
       "      <th>OilchangeHigh</th>\n",
       "      <th>GoldchangeHigh</th>\n",
       "      <th>IXICchangeHigh</th>\n",
       "      <th>DJIchangeHigh</th>\n",
       "      <th>N225changeHigh</th>\n",
       "      <th>sector</th>\n",
       "    </tr>\n",
       "  </thead>\n",
       "  <tbody>\n",
       "    <tr>\n",
       "      <th>0</th>\n",
       "      <td>T. Rowe Price sells most of its Tesla shares T...</td>\n",
       "      <td>0.002152</td>\n",
       "      <td>0.005362</td>\n",
       "      <td>0.000897</td>\n",
       "      <td>0.00804</td>\n",
       "      <td>0.001399</td>\n",
       "      <td>0.005411</td>\n",
       "      <td>Finance</td>\n",
       "    </tr>\n",
       "    <tr>\n",
       "      <th>1</th>\n",
       "      <td>Gannett to retain all seats in MNG proxy fight...</td>\n",
       "      <td>0.002152</td>\n",
       "      <td>0.005362</td>\n",
       "      <td>0.000897</td>\n",
       "      <td>0.00804</td>\n",
       "      <td>0.001399</td>\n",
       "      <td>0.005411</td>\n",
       "      <td>Consumer Services</td>\n",
       "    </tr>\n",
       "    <tr>\n",
       "      <th>2</th>\n",
       "      <td>XPO shareholders support exec pay plan, reject...</td>\n",
       "      <td>0.002152</td>\n",
       "      <td>0.005362</td>\n",
       "      <td>0.000897</td>\n",
       "      <td>0.00804</td>\n",
       "      <td>0.001399</td>\n",
       "      <td>0.005411</td>\n",
       "      <td>Consumer Services</td>\n",
       "    </tr>\n",
       "    <tr>\n",
       "      <th>3</th>\n",
       "      <td>MacroGenics +13.1% on new data from breast can...</td>\n",
       "      <td>0.002152</td>\n",
       "      <td>0.005362</td>\n",
       "      <td>0.000897</td>\n",
       "      <td>0.00804</td>\n",
       "      <td>0.001399</td>\n",
       "      <td>0.005411</td>\n",
       "      <td>Health Care</td>\n",
       "    </tr>\n",
       "    <tr>\n",
       "      <th>4</th>\n",
       "      <td>Bunge looks to downsize before growing again, ...</td>\n",
       "      <td>0.002152</td>\n",
       "      <td>0.005362</td>\n",
       "      <td>0.000897</td>\n",
       "      <td>0.00804</td>\n",
       "      <td>0.001399</td>\n",
       "      <td>0.005411</td>\n",
       "      <td>Consumer Non-Durables</td>\n",
       "    </tr>\n",
       "  </tbody>\n",
       "</table>\n",
       "</div>"
      ],
      "text/plain": [
       "                                          desc-title  SPchangeHigh  \\\n",
       "0  T. Rowe Price sells most of its Tesla shares T...      0.002152   \n",
       "1  Gannett to retain all seats in MNG proxy fight...      0.002152   \n",
       "2  XPO shareholders support exec pay plan, reject...      0.002152   \n",
       "3  MacroGenics +13.1% on new data from breast can...      0.002152   \n",
       "4  Bunge looks to downsize before growing again, ...      0.002152   \n",
       "\n",
       "   OilchangeHigh  GoldchangeHigh  IXICchangeHigh  DJIchangeHigh  \\\n",
       "0       0.005362        0.000897         0.00804       0.001399   \n",
       "1       0.005362        0.000897         0.00804       0.001399   \n",
       "2       0.005362        0.000897         0.00804       0.001399   \n",
       "3       0.005362        0.000897         0.00804       0.001399   \n",
       "4       0.005362        0.000897         0.00804       0.001399   \n",
       "\n",
       "   N225changeHigh                 sector  \n",
       "0        0.005411                Finance  \n",
       "1        0.005411      Consumer Services  \n",
       "2        0.005411      Consumer Services  \n",
       "3        0.005411            Health Care  \n",
       "4        0.005411  Consumer Non-Durables  "
      ]
     },
     "execution_count": 12,
     "metadata": {},
     "output_type": "execute_result"
    }
   ],
   "source": [
    "features.head(5)"
   ]
  },
  {
   "cell_type": "code",
   "execution_count": 13,
   "metadata": {},
   "outputs": [
    {
     "data": {
      "text/plain": [
       "0      up\n",
       "1    down\n",
       "2      up\n",
       "3      up\n",
       "4    down\n",
       "Name: tag, dtype: object"
      ]
     },
     "execution_count": 13,
     "metadata": {},
     "output_type": "execute_result"
    }
   ],
   "source": [
    "target.head(5)"
   ]
  },
  {
   "cell_type": "markdown",
   "metadata": {},
   "source": [
    "## 5- preprocessing pipeline"
   ]
  },
  {
   "cell_type": "code",
   "execution_count": 14,
   "metadata": {},
   "outputs": [],
   "source": [
    "preprocess = make_column_transformer(\n",
    "    (make_pipeline( CountVectorizer(tokenizer=tokenize),TfidfTransformer()),'desc-title'),\n",
    "    (StandardScaler(),['SPchangeHigh',\"OilchangeHigh\", 'GoldchangeHigh','IXICchangeHigh', 'DJIchangeHigh']),\n",
    "    (OneHotEncoder(),['sector']),\n",
    ")\n",
    "a=preprocess.fit_transform(features)"
   ]
  },
  {
   "cell_type": "markdown",
   "metadata": {},
   "source": [
    "## 6- model pipeline"
   ]
  },
  {
   "cell_type": "code",
   "execution_count": 15,
   "metadata": {},
   "outputs": [
    {
     "data": {
      "text/plain": [
       "(26842,)"
      ]
     },
     "execution_count": 15,
     "metadata": {},
     "output_type": "execute_result"
    }
   ],
   "source": [
    "def model_pipeline():\n",
    "    pipeline = Pipeline([\n",
    "        ('process', preprocess),\n",
    "        \n",
    "#         ('clf', RandomForestClassifier(random_state = 42))\n",
    "        ('clf', GradientBoostingClassifier())\n",
    "#         ('clf', MultinomialNB())\n",
    "    ])\n",
    "    return pipeline\n",
    "\n",
    "\n",
    "X_train.shape\n",
    "y_train.shape"
   ]
  },
  {
   "cell_type": "markdown",
   "metadata": {},
   "source": [
    "## 7- fit model"
   ]
  },
  {
   "cell_type": "code",
   "execution_count": 16,
   "metadata": {},
   "outputs": [],
   "source": [
    "model = model_pipeline()\n",
    "model.fit(X_train, y_train);"
   ]
  },
  {
   "cell_type": "markdown",
   "metadata": {},
   "source": [
    "## 8- how model is doing"
   ]
  },
  {
   "cell_type": "code",
   "execution_count": 17,
   "metadata": {},
   "outputs": [
    {
     "data": {
      "text/plain": [
       "array(['up', 'up', 'down', ..., 'down', 'up', 'down'], dtype=object)"
      ]
     },
     "execution_count": 17,
     "metadata": {},
     "output_type": "execute_result"
    }
   ],
   "source": [
    "predictions = model.predict(X_test)\n",
    "predictions "
   ]
  },
  {
   "cell_type": "code",
   "execution_count": 18,
   "metadata": {},
   "outputs": [
    {
     "name": "stdout",
     "output_type": "stream",
     "text": [
      "Labels: ['down' 'up']\n",
      "Confusion Matrix:\n",
      " [[2095 1370]\n",
      " [1195 2051]]\n",
      "Accuracy: 0.6177916852928028\n"
     ]
    },
    {
     "data": {
      "text/html": [
       "<div>\n",
       "<style scoped>\n",
       "    .dataframe tbody tr th:only-of-type {\n",
       "        vertical-align: middle;\n",
       "    }\n",
       "\n",
       "    .dataframe tbody tr th {\n",
       "        vertical-align: top;\n",
       "    }\n",
       "\n",
       "    .dataframe thead th {\n",
       "        text-align: right;\n",
       "    }\n",
       "</style>\n",
       "<table border=\"1\" class=\"dataframe\">\n",
       "  <thead>\n",
       "    <tr style=\"text-align: right;\">\n",
       "      <th></th>\n",
       "      <th>down</th>\n",
       "      <th>up</th>\n",
       "    </tr>\n",
       "  </thead>\n",
       "  <tbody>\n",
       "    <tr>\n",
       "      <th>down</th>\n",
       "      <td>2095</td>\n",
       "      <td>1370</td>\n",
       "    </tr>\n",
       "    <tr>\n",
       "      <th>up</th>\n",
       "      <td>1195</td>\n",
       "      <td>2051</td>\n",
       "    </tr>\n",
       "  </tbody>\n",
       "</table>\n",
       "</div>"
      ],
      "text/plain": [
       "      down    up\n",
       "down  2095  1370\n",
       "up    1195  2051"
      ]
     },
     "execution_count": 18,
     "metadata": {},
     "output_type": "execute_result"
    }
   ],
   "source": [
    "display_results(y_test, predictions)"
   ]
  },
  {
   "cell_type": "code",
   "execution_count": 19,
   "metadata": {},
   "outputs": [
    {
     "name": "stdout",
     "output_type": "stream",
     "text": [
      "              precision    recall  f1-score   support\n",
      "\n",
      "        down       0.64      0.60      0.62      3465\n",
      "          up       0.60      0.63      0.62      3246\n",
      "\n",
      "    accuracy                           0.62      6711\n",
      "   macro avg       0.62      0.62      0.62      6711\n",
      "weighted avg       0.62      0.62      0.62      6711\n",
      "\n"
     ]
    }
   ],
   "source": [
    "print(metrics.classification_report(y_test, predictions))"
   ]
  },
  {
   "cell_type": "code",
   "execution_count": 20,
   "metadata": {},
   "outputs": [
    {
     "data": {
      "text/plain": [
       "array([[0.47697237, 0.52302763],\n",
       "       [0.38396097, 0.61603903],\n",
       "       [0.51146156, 0.48853844],\n",
       "       ...,\n",
       "       [0.52346677, 0.47653323],\n",
       "       [0.32417557, 0.67582443],\n",
       "       [0.5579455 , 0.4420545 ]])"
      ]
     },
     "execution_count": 20,
     "metadata": {},
     "output_type": "execute_result"
    }
   ],
   "source": [
    "# probabilities\n",
    "predictions = model.predict_proba(X_test)\n",
    "predictions "
   ]
  },
  {
   "cell_type": "markdown",
   "metadata": {},
   "source": [
    "# Dataset #2\n",
    "This data sect includes just title and body"
   ]
  },
  {
   "cell_type": "markdown",
   "metadata": {},
   "source": [
    "## 9- data import"
   ]
  },
  {
   "cell_type": "code",
   "execution_count": 21,
   "metadata": {},
   "outputs": [],
   "source": [
    "fooldata=pd.read_csv(\"fool.csv\")"
   ]
  },
  {
   "cell_type": "code",
   "execution_count": 22,
   "metadata": {},
   "outputs": [
    {
     "data": {
      "text/html": [
       "<div>\n",
       "<style scoped>\n",
       "    .dataframe tbody tr th:only-of-type {\n",
       "        vertical-align: middle;\n",
       "    }\n",
       "\n",
       "    .dataframe tbody tr th {\n",
       "        vertical-align: top;\n",
       "    }\n",
       "\n",
       "    .dataframe thead th {\n",
       "        text-align: right;\n",
       "    }\n",
       "</style>\n",
       "<table border=\"1\" class=\"dataframe\">\n",
       "  <thead>\n",
       "    <tr style=\"text-align: right;\">\n",
       "      <th></th>\n",
       "      <th>title</th>\n",
       "      <th>price</th>\n",
       "    </tr>\n",
       "  </thead>\n",
       "  <tbody>\n",
       "    <tr>\n",
       "      <th>0</th>\n",
       "      <td>Why Williams-Sonoma Stock Popped Today</td>\n",
       "      <td>Shares of   were up 11% as of 12:00 p.m. EDT F...</td>\n",
       "    </tr>\n",
       "    <tr>\n",
       "      <th>1</th>\n",
       "      <td>Why Tailored Brands Stock Dropped 10.5%</td>\n",
       "      <td>Shares of Men's Wearhouse owner  stock  on Fri...</td>\n",
       "    </tr>\n",
       "    <tr>\n",
       "      <th>2</th>\n",
       "      <td>Here's Why Mattel Inc Stock Fell Today</td>\n",
       "      <td>Shares of  are down 5.9% at 1:50 p.m. on May 3...</td>\n",
       "    </tr>\n",
       "    <tr>\n",
       "      <th>3</th>\n",
       "      <td>Why Dell Technologies Stock Fell Friday</td>\n",
       "      <td>Shares of information technology and computer ...</td>\n",
       "    </tr>\n",
       "    <tr>\n",
       "      <th>4</th>\n",
       "      <td>Why Pitney Bowes Stock Dropped 11% on Friday</td>\n",
       "      <td>It's Friday, and shares of postal solutions pr...</td>\n",
       "    </tr>\n",
       "  </tbody>\n",
       "</table>\n",
       "</div>"
      ],
      "text/plain": [
       "                                          title  \\\n",
       "0        Why Williams-Sonoma Stock Popped Today   \n",
       "1       Why Tailored Brands Stock Dropped 10.5%   \n",
       "2        Here's Why Mattel Inc Stock Fell Today   \n",
       "3       Why Dell Technologies Stock Fell Friday   \n",
       "4  Why Pitney Bowes Stock Dropped 11% on Friday   \n",
       "\n",
       "                                               price  \n",
       "0  Shares of   were up 11% as of 12:00 p.m. EDT F...  \n",
       "1  Shares of Men's Wearhouse owner  stock  on Fri...  \n",
       "2  Shares of  are down 5.9% at 1:50 p.m. on May 3...  \n",
       "3  Shares of information technology and computer ...  \n",
       "4  It's Friday, and shares of postal solutions pr...  "
      ]
     },
     "execution_count": 22,
     "metadata": {},
     "output_type": "execute_result"
    }
   ],
   "source": [
    "fooldata.head()"
   ]
  },
  {
   "cell_type": "code",
   "execution_count": 23,
   "metadata": {},
   "outputs": [],
   "source": [
    "fooldata = fooldata.rename(columns={'price': 'desc'})"
   ]
  },
  {
   "cell_type": "markdown",
   "metadata": {},
   "source": [
    "## 10- Tagging data based on keywords in the title"
   ]
  },
  {
   "cell_type": "code",
   "execution_count": 24,
   "metadata": {},
   "outputs": [
    {
     "data": {
      "text/plain": [
       "title       0\n",
       "desc      159\n",
       "tag      1175\n",
       "dtype: int64"
      ]
     },
     "execution_count": 24,
     "metadata": {},
     "output_type": "execute_result"
    }
   ],
   "source": [
    "def addTag(str):\n",
    "    '''\n",
    "    function to return up or down based if\n",
    "    a string exists in another string\n",
    "    '''\n",
    "    if \"Crashing\" in str:\n",
    "        return \"down\"\n",
    "    if \"Got Whacked\" in str:\n",
    "        return \"down\"\n",
    "    if \"Lower\" in str:\n",
    "        return \"down\"\n",
    "    elif \"Crashed\" in str:\n",
    "        return \"down\"\n",
    "    elif \"Lost\" in str:\n",
    "        return \"down\"\n",
    "    elif \"Crushed\" in str:\n",
    "        return \"down\"\n",
    "    elif \"Slumped\" in str:\n",
    "        return \"down\"\n",
    "    elif \"Pop\" in str:\n",
    "        return \"up\"\n",
    "    elif \"Dropped\" in str:\n",
    "        return \"down\"\n",
    "    elif \"Drop\" in str:\n",
    "        return \"down\"\n",
    "    elif \"Fell\" in str:\n",
    "        return \"down\"\n",
    "    elif \"Fall\" in str:\n",
    "        return \"down\"\n",
    "    elif \"Fallen\" in str:\n",
    "        return \"down\"\n",
    "    elif \"Sank\" in str:\n",
    "        return \"down\"\n",
    "    elif \"Destroyed\" in str:\n",
    "        return \"down\"\n",
    "    elif \"Tumbling\" in str:\n",
    "        return \"down\"\n",
    "    elif \"Tumbled\" in str:\n",
    "        return \"down\"\n",
    "    elif \"Plunged\" in str:\n",
    "        return \"down\"\n",
    "    elif \"Plunging\" in str:\n",
    "        return \"down\"\n",
    "    elif \"Plummeted\" in str:\n",
    "        return \"down\"\n",
    "    elif \"Surge on Debt\" in str:\n",
    "        return \"down\"\n",
    "    elif \"Down\" in str:\n",
    "        return \"down\"\n",
    "    elif \"Slipping\" in str:\n",
    "        return \"down\"\n",
    "    elif \"Slipped\" in str:\n",
    "        return \"down\"\n",
    "    elif \"Surged\" in str:\n",
    "        return \"down\"\n",
    "    elif \"Lower\" in str:\n",
    "        return \"down\"\n",
    "    elif \"Crash\" in str:\n",
    "        return \"down\"\n",
    "    elif \"Tanking\" in str:\n",
    "        return \"down\"\n",
    "    elif \"Out of Fashion\" in str:\n",
    "        return \"down\"\n",
    "    elif \"Sinking\" in str:\n",
    "        return \"down\"\n",
    "    elif \"Tanking\" in str:\n",
    "        return \"down\"\n",
    "    elif \"Hammered\" in str:\n",
    "        return \"down\"\n",
    "    elif \"Hammerring\" in str:\n",
    "        return \"down\"\n",
    "    elif \"Slammed\" in str:\n",
    "        return \"down\"\n",
    "    elif \"Slamming\" in str:\n",
    "        return \"down\"\n",
    "    elif \"Imploding\" in str:\n",
    "        return \"down\"\n",
    "    elif \"Cratered\" in str:\n",
    "        return \"down\"\n",
    "    elif \"Cratering\" in str:\n",
    "        return \"down\"\n",
    "    elif \"Sliding\" in str:\n",
    "        return \"down\"\n",
    "    elif \"Roller Coaster\" in str:\n",
    "        return \"down\"\n",
    "    elif \"Were Down\" in str:\n",
    "        return \"down\"\n",
    "    elif \"Dove\" in str:\n",
    "        return \"down\"\n",
    "    elif \"in the Doghouse\" in str:\n",
    "        return \"down\"\n",
    "    elif \"Slumping\" in str:\n",
    "        return \"down\"\n",
    "    elif \"Slumped\" in str:\n",
    "        return \"down\"\n",
    "    elif \"Collapsing\" in str:\n",
    "        return \"down\"\n",
    "    elif \"Collapsed\" in str:\n",
    "        return \"down\"\n",
    "    elif \"Getting Walloped\" in str:\n",
    "        return \"down\"\n",
    "    elif \"Mauled\" in str:\n",
    "        return \"down\"\n",
    "    elif \"Tanked\" in str:\n",
    "        return \"down\"\n",
    "    elif \"Fizzled\" in str:\n",
    "        return \"down\"\n",
    "    elif \"Plummeting\" in str:\n",
    "        return \"down\"\n",
    "    elif \"Stumbled\" in str:\n",
    "        return \"down\"\n",
    "    elif \"Smashed\" in str:\n",
    "        return \"down\"\n",
    "    elif \"Slid\" in str:\n",
    "        return \"down\"\n",
    "    elif \"Rough Day\" in str:\n",
    "        return \"down\"\n",
    "    elif \"Slides\" in str:\n",
    "        return \"down\"\n",
    "    elif \"Under Pressure\" in str:\n",
    "        return \"down\"\n",
    "    elif \"Shrugged Off\" in str:\n",
    "        return \"down\"\n",
    "    elif \"Declined\" in str:\n",
    "        return \"down\"\n",
    "    elif \"Fading\" in str:\n",
    "        return \"down\"\n",
    "    elif \"Sink\" in str:\n",
    "        return \"down\"\n",
    "    elif \"Moving in Opposite Directions\" in str:\n",
    "        return \"down\"\n",
    "    elif \"Hit the Skids\" in str:\n",
    "        return \"down\"\n",
    "    elif \"Dip\" in str:\n",
    "        return \"down\"\n",
    "    elif \"Broke Out\" in str:\n",
    "        return \"down\"\n",
    "    elif \"Setback\" in str:\n",
    "        return \"down\"\n",
    "    elif \"Caught Fire\" in str:\n",
    "        return \"down\"\n",
    "    elif \"Buckled\" in str:\n",
    "        return \"down\"\n",
    "    elif \"Lose\" in str:\n",
    "        return \"down\"\n",
    "    elif \"Gave Back Its Gains\" in str:\n",
    "        return \"down\"\n",
    "    elif \"Got Dumped\" in str:\n",
    "        return \"down\"\n",
    "    elif \"Weighed on\" in str:\n",
    "        return \"down\"\n",
    "    elif \"Getting Thrashed\" in str:\n",
    "        return \"down\"\n",
    "    elif \"Tank\" in str:\n",
    "        return \"down\"\n",
    "    elif \"Tumble\" in str:\n",
    "        return \"down\"\n",
    "    elif \"Taking a Beating\" in str:\n",
    "        return \"down\"\n",
    "    elif \"Derailed\" in str:\n",
    "        return \"down\"\n",
    "    elif \"Plunge\" in str:\n",
    "        return \"down\"\n",
    "    elif \"Stumbling\" in str:\n",
    "        return \"down\"\n",
    "    elif \"Imploded\" in str:\n",
    "        return \"down\"\n",
    "    elif \"Losing\" in str:\n",
    "        return \"down\"\n",
    "    elif \"Nosediving\" in str:\n",
    "        return \"down\"\n",
    "    elif \"Bad Day\" in str:\n",
    "        return \"down\"\n",
    "\n",
    "\n",
    "    elif \"Soared\" in str:\n",
    "        return \"up\"\n",
    "    elif \"Looks Gorgeous\" in str:\n",
    "        return \"up\"\n",
    "    elif \"Leapt\" in str:\n",
    "        return \"up\"\n",
    "    elif \"Leaping\" in str:\n",
    "        return \"up\"\n",
    "    elif \"Soars\" in str:\n",
    "        return \"up\"\n",
    "    elif \"Soaring\" in str:\n",
    "        return \"up\"\n",
    "    elif \"Jumped\" in str:\n",
    "        return \"up\"\n",
    "    elif \"Climbed\" in str:\n",
    "        return \"up\"\n",
    "    elif \"Rose\" in str:\n",
    "        return \"up\"\n",
    "    elif \"Rising\" in str:\n",
    "        return \"up\"\n",
    "    elif \"Gained\" in str:\n",
    "        return \"up\"\n",
    "    elif \"Skyrocketed\" in str:\n",
    "        return \"up\"\n",
    "    elif \"Skyrocketing\" in str:\n",
    "        return \"up\"\n",
    "    elif \"Rocketed\" in str:\n",
    "        return \"up\"\n",
    "    elif \"Upswing\" in str:\n",
    "        return \"up\"\n",
    "    elif \"Popped\" in str:\n",
    "        return \"up\"\n",
    "    elif \"Are Up\" in str:\n",
    "        return \"up\"\n",
    "    elif \"Are Higher\" in str:\n",
    "        return \"up\"\n",
    "    elif \"Took Off\" in str:\n",
    "        return \"up\"\n",
    "    elif \"Climbing\" in str:\n",
    "        return \"up\"\n",
    "    elif \"Spiked\" in str:\n",
    "        return \"up\"\n",
    "    elif \"Heating Up\" in str:\n",
    "        return \"up\"\n",
    "    elif \"Gaining\" in str:\n",
    "        return \"up\"\n",
    "    elif \"Surging\" in str:\n",
    "        return \"up\"\n",
    "    elif \"Trading Higher\" in str:\n",
    "        return \"up\"\n",
    "    elif \"Flying Higher\" in str:\n",
    "        return \"up\"\n",
    "    elif \"Were Up\" in str:\n",
    "        return \"up\"\n",
    "    elif \"Moving Higher\" in str:\n",
    "        return \"up\"\n",
    "    elif \"Jumping\" in str:\n",
    "        return \"up\"\n",
    "    elif \"Higher\" in str:\n",
    "        return \"up\"\n",
    "    elif \"Is on the Move\" in str:\n",
    "        return \"up\"\n",
    "    elif \"on the Rise\" in str:\n",
    "        return \"up\"\n",
    "    elif \"Accelerating\" in str:\n",
    "        return \"up\"\n",
    "    elif \"Soar\" in str:\n",
    "        return \"up\"\n",
    "    elif \"Doubled\" in str:\n",
    "        return \"up\"\n",
    "    elif \"Doubling\" in str:\n",
    "        return \"up\"\n",
    "    elif \"Took a Hit\" in str:\n",
    "        return \"up\"\n",
    "    elif \"Up\" in str:\n",
    "        return \"up\"\n",
    "    elif \"Took Flight\" in str:\n",
    "        return \"up\"\n",
    "    elif \"Rebounded\" in str:\n",
    "        return \"up\"\n",
    "    elif \"Rallied\" in str:\n",
    "        return \"up\"\n",
    "    elif \"Leaped\" in str:\n",
    "        return \"up\"\n",
    "    elif \"Advanced\" in str:\n",
    "        return \"up\"\n",
    "    elif \"Bounced\" in str:\n",
    "        return \"up\"\n",
    "\n",
    "    elif \"Is On Fire\" in str:\n",
    "        return \"up\"\n",
    "    elif \"Jump\" in str:\n",
    "        return \"up\"\n",
    "    elif \"Hit the Sky\" in str:\n",
    "        return \"up\"\n",
    "    elif \"Skyrocket\" in str:\n",
    "        return \"up\"\n",
    "    elif \"Rallying\" in str:\n",
    "        return \"up\"\n",
    "    elif \"Got Cut in Half\" in str:\n",
    "        return \"down\"\n",
    "    elif \"Hit Vail\" in str:\n",
    "        return \"down\"\n",
    "    elif \"Obliterated\" in str:\n",
    "        return \"down\"\n",
    "    elif \"Decline\" in str:\n",
    "        return \"down\"\n",
    "    elif \"Swooned\" in str:\n",
    "        return \"down\"\n",
    "    elif \"Struggled\" in str:\n",
    "        return \"down\"\n",
    "    elif \"Crushing\" in str:\n",
    "        return \"down\"\n",
    "\n",
    "    elif \"Roaring\" in str:\n",
    "        return \"up\"\n",
    "    elif \"Rally\" in str:\n",
    "        return \"up\"\n",
    "    elif \"Rise\" in str:\n",
    "        return \"up\"\n",
    "    elif \"Rebounding\" in str:\n",
    "        return \"up\"\n",
    "    elif \"Bouncing Back\" in str:\n",
    "        return \"up\"\n",
    "    elif \"Good Day\" in str:\n",
    "        return \"up\"\n",
    "    elif \"Making Gains\" in str:\n",
    "        return \"up\"\n",
    "    elif \"Got a Lift\" in str:\n",
    "        return \"up\"\n",
    "    elif \"Spiking\" in str:\n",
    "        return \"up\"\n",
    "    elif \"Surge\" in str:\n",
    "        return \"up\"\n",
    "    elif \"Accelerates\" in str:\n",
    "        return \"up\"\n",
    "    elif \"Rocketing\" in str:\n",
    "        return \"up\"\n",
    "    elif \"Ascend\" in str:\n",
    "        return \"up\"\n",
    "    elif \"Cheering\" in str:\n",
    "        return \"up\"\n",
    "    elif \"Surge\" in str:\n",
    "        return \"up\"\n",
    "\n",
    "fooldata[\"tag\"]=fooldata[\"title\"].apply(lambda x:addTag(x) )\n",
    "fooldata.isnull().sum()\n"
   ]
  },
  {
   "cell_type": "code",
   "execution_count": 25,
   "metadata": {},
   "outputs": [
    {
     "data": {
      "text/plain": [
       "title    0\n",
       "desc     0\n",
       "tag      0\n",
       "dtype: int64"
      ]
     },
     "execution_count": 25,
     "metadata": {},
     "output_type": "execute_result"
    }
   ],
   "source": [
    "fooldata.dropna(inplace=True,axis=0)\n",
    "fooldata.isnull().sum()"
   ]
  },
  {
   "cell_type": "code",
   "execution_count": 26,
   "metadata": {},
   "outputs": [
    {
     "data": {
      "text/plain": [
       "(14267, 3)"
      ]
     },
     "execution_count": 26,
     "metadata": {},
     "output_type": "execute_result"
    }
   ],
   "source": [
    "fooldata.shape"
   ]
  },
  {
   "cell_type": "code",
   "execution_count": 27,
   "metadata": {},
   "outputs": [
    {
     "data": {
      "text/plain": [
       "up      7518\n",
       "down    6749\n",
       "Name: tag, dtype: int64"
      ]
     },
     "execution_count": 27,
     "metadata": {},
     "output_type": "execute_result"
    }
   ],
   "source": [
    "fooldata[\"tag\"].value_counts()"
   ]
  },
  {
   "cell_type": "code",
   "execution_count": 28,
   "metadata": {},
   "outputs": [
    {
     "data": {
      "text/plain": [
       "Index(['title', 'desc', 'tag'], dtype='object')"
      ]
     },
     "execution_count": 28,
     "metadata": {},
     "output_type": "execute_result"
    }
   ],
   "source": [
    "fooldata.columns"
   ]
  },
  {
   "cell_type": "markdown",
   "metadata": {},
   "source": [
    "## 11- defining features and targets"
   ]
  },
  {
   "cell_type": "code",
   "execution_count": 29,
   "metadata": {},
   "outputs": [
    {
     "name": "stdout",
     "output_type": "stream",
     "text": [
      "rows in the original data set: 14267\n",
      "rows in the training set: 11413\n",
      "rows in the test set: 2854\n"
     ]
    }
   ],
   "source": [
    "features=fooldata[\"desc\"]\n",
    "target=fooldata['tag']\n",
    "X_train, X_test, y_train, y_test = train_test_split(features,target,random_state=222,test_size=.2)\n",
    "print('rows in the original data set: {}'.format(fooldata.shape[0]))\n",
    "print('rows in the training set: {}'.format(X_train.shape[0]))\n",
    "print('rows in the test set: {}'.format(X_test.shape[0]))"
   ]
  },
  {
   "cell_type": "markdown",
   "metadata": {},
   "source": [
    "## 12- defining pipeline and train the model"
   ]
  },
  {
   "cell_type": "code",
   "execution_count": 30,
   "metadata": {},
   "outputs": [
    {
     "name": "stdout",
     "output_type": "stream",
     "text": [
      "(11413,)\n",
      "(11413,)\n"
     ]
    }
   ],
   "source": [
    "def model_pipeline():\n",
    "    pipeline = Pipeline([\n",
    "        ('vect', CountVectorizer(tokenizer=tokenize)),\n",
    "        ('tfidf', TfidfTransformer()),\n",
    "#         ('clf', RandomForestClassifier(random_state = 42)),\n",
    "        ('clf', GradientBoostingClassifier())\n",
    "#         ('clf', MultinomialNB())\n",
    "    ])\n",
    "    return pipeline\n",
    "\n",
    "\n",
    "model_pipeline = model_pipeline()\n",
    "print(X_train.shape)\n",
    "print(y_train.shape)"
   ]
  },
  {
   "cell_type": "code",
   "execution_count": 31,
   "metadata": {},
   "outputs": [],
   "source": [
    "model_pipeline.fit(X_train, y_train);"
   ]
  },
  {
   "cell_type": "markdown",
   "metadata": {},
   "source": [
    "## 13- How the model is doing"
   ]
  },
  {
   "cell_type": "code",
   "execution_count": 32,
   "metadata": {},
   "outputs": [],
   "source": [
    "predictions = model_pipeline.predict(X_test)"
   ]
  },
  {
   "cell_type": "code",
   "execution_count": 33,
   "metadata": {},
   "outputs": [
    {
     "name": "stdout",
     "output_type": "stream",
     "text": [
      "              precision    recall  f1-score   support\n",
      "\n",
      "        down       0.85      0.79      0.82      1330\n",
      "          up       0.83      0.87      0.85      1524\n",
      "\n",
      "    accuracy                           0.84      2854\n",
      "   macro avg       0.84      0.83      0.83      2854\n",
      "weighted avg       0.84      0.84      0.83      2854\n",
      "\n"
     ]
    }
   ],
   "source": [
    "print(metrics.classification_report(y_test, predictions))"
   ]
  },
  {
   "cell_type": "code",
   "execution_count": 34,
   "metadata": {},
   "outputs": [
    {
     "name": "stdout",
     "output_type": "stream",
     "text": [
      "0.8353188507358094\n"
     ]
    }
   ],
   "source": [
    "print(metrics.accuracy_score(y_test, predictions))"
   ]
  },
  {
   "cell_type": "code",
   "execution_count": 35,
   "metadata": {},
   "outputs": [
    {
     "name": "stdout",
     "output_type": "stream",
     "text": [
      "Labels: ['down' 'up']\n",
      "Confusion Matrix:\n",
      " [[1053  277]\n",
      " [ 193 1331]]\n",
      "Accuracy: 0.8353188507358094\n"
     ]
    },
    {
     "data": {
      "text/html": [
       "<div>\n",
       "<style scoped>\n",
       "    .dataframe tbody tr th:only-of-type {\n",
       "        vertical-align: middle;\n",
       "    }\n",
       "\n",
       "    .dataframe tbody tr th {\n",
       "        vertical-align: top;\n",
       "    }\n",
       "\n",
       "    .dataframe thead th {\n",
       "        text-align: right;\n",
       "    }\n",
       "</style>\n",
       "<table border=\"1\" class=\"dataframe\">\n",
       "  <thead>\n",
       "    <tr style=\"text-align: right;\">\n",
       "      <th></th>\n",
       "      <th>down</th>\n",
       "      <th>up</th>\n",
       "    </tr>\n",
       "  </thead>\n",
       "  <tbody>\n",
       "    <tr>\n",
       "      <th>down</th>\n",
       "      <td>1053</td>\n",
       "      <td>277</td>\n",
       "    </tr>\n",
       "    <tr>\n",
       "      <th>up</th>\n",
       "      <td>193</td>\n",
       "      <td>1331</td>\n",
       "    </tr>\n",
       "  </tbody>\n",
       "</table>\n",
       "</div>"
      ],
      "text/plain": [
       "      down    up\n",
       "down  1053   277\n",
       "up     193  1331"
      ]
     },
     "execution_count": 35,
     "metadata": {},
     "output_type": "execute_result"
    }
   ],
   "source": [
    "display_results(y_test, predictions)"
   ]
  },
  {
   "cell_type": "markdown",
   "metadata": {},
   "source": [
    "## 14- learning curve"
   ]
  },
  {
   "cell_type": "code",
   "execution_count": 36,
   "metadata": {},
   "outputs": [
    {
     "data": {
      "text/plain": [
       "(14267,)"
      ]
     },
     "execution_count": 36,
     "metadata": {},
     "output_type": "execute_result"
    }
   ],
   "source": [
    "features.shape"
   ]
  },
  {
   "cell_type": "code",
   "execution_count": 37,
   "metadata": {},
   "outputs": [
    {
     "data": {
      "text/plain": [
       "(14267,)"
      ]
     },
     "execution_count": 37,
     "metadata": {},
     "output_type": "execute_result"
    }
   ],
   "source": [
    "target.shape"
   ]
  },
  {
   "cell_type": "code",
   "execution_count": 38,
   "metadata": {},
   "outputs": [
    {
     "data": {
      "text/plain": [
       "up      7518\n",
       "down    6749\n",
       "Name: tag, dtype: int64"
      ]
     },
     "execution_count": 38,
     "metadata": {},
     "output_type": "execute_result"
    }
   ],
   "source": [
    "target.value_counts()"
   ]
  },
  {
   "cell_type": "code",
   "execution_count": 39,
   "metadata": {},
   "outputs": [],
   "source": [
    "train_sizes = [1000,1500,2000,2500,3000,3500,4000, 4500,5000,5500, 6000,6500,7000,7500,8000,8500,9000,9500,10000,10500,11000]"
   ]
  },
  {
   "cell_type": "code",
   "execution_count": 40,
   "metadata": {},
   "outputs": [],
   "source": [
    "sizes, train_scores, test_scores = learning_curve(model_pipeline, features, target,cv = 5, train_sizes = train_sizes, scoring=\"accuracy\")"
   ]
  },
  {
   "cell_type": "code",
   "execution_count": 41,
   "metadata": {},
   "outputs": [
    {
     "data": {
      "image/png": "[encoded data removed]",
      "text/plain": [
       "<Figure size 720x504 with 1 Axes>"
      ]
     },
     "metadata": {},
     "output_type": "display_data"
    }
   ],
   "source": [
    "# ploting\n",
    "train_std = np.std(train_scores, axis = 1)\n",
    "train_mean = np.mean(train_scores, axis = 1)\n",
    "test_std = np.std(test_scores, axis = 1)\n",
    "test_mean = np.mean(test_scores, axis = 1)\n",
    "\n",
    "fig = plt.figure(figsize=(10,7))\n",
    "plt.plot(sizes, train_mean, 'o-', color = 'r', label = 'Training Score')\n",
    "plt.plot(sizes, test_mean, 'o-', color = 'g', label = 'Testing Score')\n",
    "plt.fill_between(sizes, train_mean - train_std, \\\n",
    "                train_mean + train_std, alpha = 0.15, color = 'r')\n",
    "plt.fill_between(sizes, test_mean - test_std, \\\n",
    "                test_mean + test_std, alpha = 0.15, color = 'g')\n",
    "plt.xlabel(\"Number of news feed\");\n",
    "plt.ylabel(\"accuracy\");\n",
    "plt.legend();\n",
    "plt.title(\"Learning curve\");"
   ]
  },
  {
   "cell_type": "markdown",
   "metadata": {},
   "source": [
    "## 15- upcomming works\n",
    "The model can be enhanced by 1. better tagging of the data 2. tuning parameters using GridSearch 3. trying other ML algorithems like NN and CNN"
   ]
  },
  {
   "cell_type": "code",
   "execution_count": null,
   "metadata": {},
   "outputs": [],
   "source": []
  }
 ],
 "metadata": {
  "kernelspec": {
   "display_name": "Python 3",
   "language": "python",
   "name": "python3"
  },
  "language_info": {
   "codemirror_mode": {
    "name": "ipython",
    "version": 3
   },
   "file_extension": ".py",
   "mimetype": "text/x-python",
   "name": "python",
   "nbconvert_exporter": "python",
   "pygments_lexer": "ipython3",
   "version": "3.7.3"
  }
 },
 "nbformat": 4,
 "nbformat_minor": 2
}
