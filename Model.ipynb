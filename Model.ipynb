{
 "cells": [
  {
   "cell_type": "code",
   "execution_count": 32,
   "metadata": {},
   "outputs": [],
   "source": [
    "import pandas as pd\n",
    "import numpy as np\n",
    "import re\n",
    "from sklearn.feature_extraction.text import CountVectorizer, TfidfTransformer,TfidfVectorizer\n",
    "from sklearn.model_selection import KFold, cross_val_score,train_test_split,GridSearchCV\n",
    "from sklearn.metrics import precision_recall_fscore_support as score\n",
    "from sklearn.base import BaseEstimator, TransformerMixin\n",
    "from sklearn.ensemble import GradientBoostingClassifier\n",
    "from sklearn.ensemble import RandomForestClassifier\n",
    "from sklearn.pipeline import Pipeline, FeatureUnion\n",
    "from sklearn.naive_bayes import MultinomialNB\n",
    "from sklearn.metrics import confusion_matrix\n",
    "from sklearn import metrics\n",
    "import nltk\n",
    "from nltk.tokenize import word_tokenize\n",
    "from nltk.stem.wordnet import WordNetLemmatizer\n",
    "lemmatizer = WordNetLemmatizer()\n",
    "stop_words = nltk.corpus.stopwords.words(\"english\")\n",
    "%matplotlib inline\n",
    "from sklearn.ensemble import AdaBoostClassifier\n",
    "from sklearn.ensemble import RandomForestClassifier\n",
    "from sklearn.linear_model import LogisticRegression\n",
    "from sklearn.naive_bayes import GaussianNB\n",
    "from sklearn.svm import SVC\n",
    "from sklearn.svm import LinearSVC\n",
    "from sklearn.ensemble import AdaBoostClassifier\n",
    "from sklearn.ensemble import GradientBoostingClassifier\n",
    "from sklearn.naive_bayes import MultinomialNB\n",
    "from sklearn.pipeline import make_pipeline\n",
    "from sklearn.preprocessing import StandardScaler, OneHotEncoder,MinMaxScaler\n",
    "from sklearn.compose import ColumnTransformer, make_column_transformer"
   ]
  },
  {
   "cell_type": "markdown",
   "metadata": {},
   "source": [
    "## Data\n",
    "\n",
    "sym: company sumbol\n",
    "\n",
    "**title**: title news about the company\n",
    "\n",
    "**newstim**: time of the news\n",
    "\n",
    "**desc**: news content\n",
    "\n",
    "**newstime2**: standardizing all the dates\n",
    "\n",
    "**yesterdayHigh**:High pricefor day before news\n",
    "\n",
    "**yesterdayLow**: Low pricefor day before news\n",
    "\n",
    "**yesterdayOpen**:Open price for day before news\n",
    "\n",
    "**yesterdayClose**: Close price for day before news\n",
    "\n",
    "**yesterdayVolume**:Volume for day before news\n",
    "\n",
    "**yesterdayAdjClose**: AdjClose for day before news\n",
    "\n",
    "**nextdayHigh**: High price for day after news\n",
    "\n",
    "**nextdayLow**: Low price for day after news\n",
    "\n",
    "**nextdayOpen**:Open price for day after news\n",
    "\n",
    "**nextdayClose**:Close price for day after news\n",
    "\n",
    "**nextdayVolume**: Volume for day after news\n",
    "\n",
    "**nextdayAdjClose**:Close price for day after news \n",
    "\n",
    "**sector**: sector that company belongs to\n",
    "\n",
    "\n",
    "on the list bellow there are opening, closing high,low, volume, adjclose  changes for price for\n",
    "SP: S&P500\n",
    "\n",
    "**DJI: Dow Jones Industrial Average**\n",
    "\n",
    "**IXIC:NASDAQ Composite**\n",
    "\n",
    "**N225: Nikkei 225**\n",
    "\n",
    "**Oil: oil price**\n",
    "\n",
    "**Gold: Gold price**\n",
    "\n",
    "\n",
    "\n",
    "'industry', 'SPchangeHigh', 'SPchangeLow', 'SPchangeOpen',\n",
    "'SPchangeClose', 'SPchangeVolume', 'SPchangeAdjClose', 'DJIchangeHigh',\n",
    "'DJIchangeLow', 'DJIchangeOpen', 'DJIchangeClose', 'DJIchangeVolume',\n",
    "'DJIchangeAdjClose', 'IXICchangeHigh', 'IXICchangeLow',\n",
    "'IXICchangeOpen', 'IXICchangeClose', 'IXICchangeVolume',\n",
    "'IXICchangeAdjClose', 'N225changeHigh', 'N225changeLow',\n",
    "'N225changeOpen', 'N225changeClose', 'N225changeVolume',\n",
    "'N225changeAdjClose', 'GoldchangeHigh', 'GoldchangeLow',\n",
    "'GoldchangeOpen', 'GoldchangeClose', 'GoldchangeVolume',\n",
    "'GoldchangeAdjClose', 'OilchangeHigh', 'OilchangeLow', 'OilchangeOpen',\n",
    "'OilchangeClose', 'OilchangeVolume', 'OilchangeAdjClose',\n",
    "\n"
   ]
  },
  {
   "cell_type": "code",
   "execution_count": 33,
   "metadata": {},
   "outputs": [],
   "source": [
    "alldata=pd.read_csv(\"Alpha_stock_indicators_sectors.csv\",index_col=0)"
   ]
  },
  {
   "cell_type": "code",
   "execution_count": 24,
   "metadata": {},
   "outputs": [
    {
     "data": {
      "text/plain": [
       "Index(['sym', 'title1', 'newstime', 'desc', 'newstime2', 'yesterdayHigh',\n",
       "       'yesterdayLow', 'yesterdayOpen', 'yesterdayClose', 'yesterdayVolume',\n",
       "       'yesterdayAdjClose', 'nextdayHigh', 'nextdayLow', 'nextdayOpen',\n",
       "       'nextdayClose', 'nextdayVolume', 'nextdayAdjClose', 'sector',\n",
       "       'industry', 'SPchangeHigh', 'SPchangeLow', 'SPchangeOpen',\n",
       "       'SPchangeClose', 'SPchangeVolume', 'SPchangeAdjClose', 'DJIchangeHigh',\n",
       "       'DJIchangeLow', 'DJIchangeOpen', 'DJIchangeClose', 'DJIchangeVolume',\n",
       "       'DJIchangeAdjClose', 'IXICchangeHigh', 'IXICchangeLow',\n",
       "       'IXICchangeOpen', 'IXICchangeClose', 'IXICchangeVolume',\n",
       "       'IXICchangeAdjClose', 'N225changeHigh', 'N225changeLow',\n",
       "       'N225changeOpen', 'N225changeClose', 'N225changeVolume',\n",
       "       'N225changeAdjClose', 'GoldchangeHigh', 'GoldchangeLow',\n",
       "       'GoldchangeOpen', 'GoldchangeClose', 'GoldchangeVolume',\n",
       "       'GoldchangeAdjClose', 'OilchangeHigh', 'OilchangeLow', 'OilchangeOpen',\n",
       "       'OilchangeClose', 'OilchangeVolume', 'OilchangeAdjClose',\n",
       "       'nextHigh-yestHigh', 'tag', 'desc-title'],\n",
       "      dtype='object')"
      ]
     },
     "execution_count": 24,
     "metadata": {},
     "output_type": "execute_result"
    }
   ],
   "source": [
    "alldata.columns"
   ]
  },
  {
   "cell_type": "code",
   "execution_count": 5,
   "metadata": {},
   "outputs": [
    {
     "data": {
      "text/html": [
       "<div>\n",
       "<style scoped>\n",
       "    .dataframe tbody tr th:only-of-type {\n",
       "        vertical-align: middle;\n",
       "    }\n",
       "\n",
       "    .dataframe tbody tr th {\n",
       "        vertical-align: top;\n",
       "    }\n",
       "\n",
       "    .dataframe thead th {\n",
       "        text-align: right;\n",
       "    }\n",
       "</style>\n",
       "<table border=\"1\" class=\"dataframe\">\n",
       "  <thead>\n",
       "    <tr style=\"text-align: right;\">\n",
       "      <th></th>\n",
       "      <th>sym</th>\n",
       "      <th>title1</th>\n",
       "      <th>newstime</th>\n",
       "      <th>desc</th>\n",
       "      <th>newstime2</th>\n",
       "      <th>yesterdayHigh</th>\n",
       "      <th>yesterdayLow</th>\n",
       "      <th>yesterdayOpen</th>\n",
       "      <th>yesterdayClose</th>\n",
       "      <th>yesterdayVolume</th>\n",
       "      <th>...</th>\n",
       "      <th>GoldchangeOpen</th>\n",
       "      <th>GoldchangeClose</th>\n",
       "      <th>GoldchangeVolume</th>\n",
       "      <th>GoldchangeAdjClose</th>\n",
       "      <th>OilchangeHigh</th>\n",
       "      <th>OilchangeLow</th>\n",
       "      <th>OilchangeOpen</th>\n",
       "      <th>OilchangeClose</th>\n",
       "      <th>OilchangeVolume</th>\n",
       "      <th>OilchangeAdjClose</th>\n",
       "    </tr>\n",
       "  </thead>\n",
       "  <tbody>\n",
       "    <tr>\n",
       "      <th>0</th>\n",
       "      <td>TROW</td>\n",
       "      <td>T. Rowe Price sells most of its Tesla shares</td>\n",
       "      <td>Wed, May 15, 10:47 PM</td>\n",
       "      <td>T. Rowe Price (NASDAQ:TROW) sold more than 80%...</td>\n",
       "      <td>2019-05-15 22:47:00</td>\n",
       "      <td>104.559998</td>\n",
       "      <td>101.989998</td>\n",
       "      <td>102.059998</td>\n",
       "      <td>103.959999</td>\n",
       "      <td>928100.0</td>\n",
       "      <td>...</td>\n",
       "      <td>0.000897</td>\n",
       "      <td>-0.000572</td>\n",
       "      <td>0.853672</td>\n",
       "      <td>-0.000572</td>\n",
       "      <td>0.005362</td>\n",
       "      <td>-0.003972</td>\n",
       "      <td>-0.006025</td>\n",
       "      <td>0.009107</td>\n",
       "      <td>-0.738832</td>\n",
       "      <td>0.009107</td>\n",
       "    </tr>\n",
       "    <tr>\n",
       "      <th>1</th>\n",
       "      <td>GCI</td>\n",
       "      <td>Gannett to retain all seats in MNG proxy fight...</td>\n",
       "      <td>Wed, May 15, 10:33 PM</td>\n",
       "      <td>Gannett (NYSE:GCI) looks likely to retain all ...</td>\n",
       "      <td>2019-05-15 22:33:00</td>\n",
       "      <td>8.915000</td>\n",
       "      <td>8.650000</td>\n",
       "      <td>8.720000</td>\n",
       "      <td>8.870000</td>\n",
       "      <td>722100.0</td>\n",
       "      <td>...</td>\n",
       "      <td>0.000897</td>\n",
       "      <td>-0.000572</td>\n",
       "      <td>0.853672</td>\n",
       "      <td>-0.000572</td>\n",
       "      <td>0.005362</td>\n",
       "      <td>-0.003972</td>\n",
       "      <td>-0.006025</td>\n",
       "      <td>0.009107</td>\n",
       "      <td>-0.738832</td>\n",
       "      <td>0.009107</td>\n",
       "    </tr>\n",
       "    <tr>\n",
       "      <th>2</th>\n",
       "      <td>XPO</td>\n",
       "      <td>XPO shareholders support exec pay plan, reject...</td>\n",
       "      <td>Wed, May 15, 10:29 PM</td>\n",
       "      <td>XPO Logistics' (NYSE:XPO) shareholders have ra...</td>\n",
       "      <td>2019-05-15 22:29:00</td>\n",
       "      <td>58.580002</td>\n",
       "      <td>56.279999</td>\n",
       "      <td>57.150002</td>\n",
       "      <td>58.360001</td>\n",
       "      <td>1333600.0</td>\n",
       "      <td>...</td>\n",
       "      <td>0.000897</td>\n",
       "      <td>-0.000572</td>\n",
       "      <td>0.853672</td>\n",
       "      <td>-0.000572</td>\n",
       "      <td>0.005362</td>\n",
       "      <td>-0.003972</td>\n",
       "      <td>-0.006025</td>\n",
       "      <td>0.009107</td>\n",
       "      <td>-0.738832</td>\n",
       "      <td>0.009107</td>\n",
       "    </tr>\n",
       "    <tr>\n",
       "      <th>3</th>\n",
       "      <td>MGNX</td>\n",
       "      <td>MacroGenics +13.1% on new data from breast can...</td>\n",
       "      <td>Wed, May 15, 6:53 PM</td>\n",
       "      <td>MacroGenics (NASDAQ:MGNX) is up 13.1% in postm...</td>\n",
       "      <td>2019-05-15 18:53:00</td>\n",
       "      <td>16.400000</td>\n",
       "      <td>15.240000</td>\n",
       "      <td>16.400000</td>\n",
       "      <td>16.270000</td>\n",
       "      <td>2031600.0</td>\n",
       "      <td>...</td>\n",
       "      <td>0.000897</td>\n",
       "      <td>-0.000572</td>\n",
       "      <td>0.853672</td>\n",
       "      <td>-0.000572</td>\n",
       "      <td>0.005362</td>\n",
       "      <td>-0.003972</td>\n",
       "      <td>-0.006025</td>\n",
       "      <td>0.009107</td>\n",
       "      <td>-0.738832</td>\n",
       "      <td>0.009107</td>\n",
       "    </tr>\n",
       "    <tr>\n",
       "      <th>4</th>\n",
       "      <td>BG</td>\n",
       "      <td>Bunge looks to downsize before growing again, ...</td>\n",
       "      <td>Wed, May 15, 6:48 PM</td>\n",
       "      <td>New Bunge (NYSE:BG) CEO Greg Heckman says the ...</td>\n",
       "      <td>2019-05-15 18:48:00</td>\n",
       "      <td>53.650002</td>\n",
       "      <td>52.389999</td>\n",
       "      <td>52.490002</td>\n",
       "      <td>53.270000</td>\n",
       "      <td>998200.0</td>\n",
       "      <td>...</td>\n",
       "      <td>0.000897</td>\n",
       "      <td>-0.000572</td>\n",
       "      <td>0.853672</td>\n",
       "      <td>-0.000572</td>\n",
       "      <td>0.005362</td>\n",
       "      <td>-0.003972</td>\n",
       "      <td>-0.006025</td>\n",
       "      <td>0.009107</td>\n",
       "      <td>-0.738832</td>\n",
       "      <td>0.009107</td>\n",
       "    </tr>\n",
       "  </tbody>\n",
       "</table>\n",
       "<p>5 rows × 55 columns</p>\n",
       "</div>"
      ],
      "text/plain": [
       "    sym                                             title1  \\\n",
       "0  TROW       T. Rowe Price sells most of its Tesla shares   \n",
       "1   GCI  Gannett to retain all seats in MNG proxy fight...   \n",
       "2   XPO  XPO shareholders support exec pay plan, reject...   \n",
       "3  MGNX  MacroGenics +13.1% on new data from breast can...   \n",
       "4    BG  Bunge looks to downsize before growing again, ...   \n",
       "\n",
       "                newstime                                               desc  \\\n",
       "0  Wed, May 15, 10:47 PM  T. Rowe Price (NASDAQ:TROW) sold more than 80%...   \n",
       "1  Wed, May 15, 10:33 PM  Gannett (NYSE:GCI) looks likely to retain all ...   \n",
       "2  Wed, May 15, 10:29 PM  XPO Logistics' (NYSE:XPO) shareholders have ra...   \n",
       "3   Wed, May 15, 6:53 PM  MacroGenics (NASDAQ:MGNX) is up 13.1% in postm...   \n",
       "4   Wed, May 15, 6:48 PM  New Bunge (NYSE:BG) CEO Greg Heckman says the ...   \n",
       "\n",
       "             newstime2  yesterdayHigh  yesterdayLow  yesterdayOpen  \\\n",
       "0  2019-05-15 22:47:00     104.559998    101.989998     102.059998   \n",
       "1  2019-05-15 22:33:00       8.915000      8.650000       8.720000   \n",
       "2  2019-05-15 22:29:00      58.580002     56.279999      57.150002   \n",
       "3  2019-05-15 18:53:00      16.400000     15.240000      16.400000   \n",
       "4  2019-05-15 18:48:00      53.650002     52.389999      52.490002   \n",
       "\n",
       "   yesterdayClose  yesterdayVolume        ...          GoldchangeOpen  \\\n",
       "0      103.959999         928100.0        ...                0.000897   \n",
       "1        8.870000         722100.0        ...                0.000897   \n",
       "2       58.360001        1333600.0        ...                0.000897   \n",
       "3       16.270000        2031600.0        ...                0.000897   \n",
       "4       53.270000         998200.0        ...                0.000897   \n",
       "\n",
       "   GoldchangeClose  GoldchangeVolume  GoldchangeAdjClose  OilchangeHigh  \\\n",
       "0        -0.000572          0.853672           -0.000572       0.005362   \n",
       "1        -0.000572          0.853672           -0.000572       0.005362   \n",
       "2        -0.000572          0.853672           -0.000572       0.005362   \n",
       "3        -0.000572          0.853672           -0.000572       0.005362   \n",
       "4        -0.000572          0.853672           -0.000572       0.005362   \n",
       "\n",
       "   OilchangeLow  OilchangeOpen OilchangeClose OilchangeVolume  \\\n",
       "0     -0.003972      -0.006025       0.009107       -0.738832   \n",
       "1     -0.003972      -0.006025       0.009107       -0.738832   \n",
       "2     -0.003972      -0.006025       0.009107       -0.738832   \n",
       "3     -0.003972      -0.006025       0.009107       -0.738832   \n",
       "4     -0.003972      -0.006025       0.009107       -0.738832   \n",
       "\n",
       "   OilchangeAdjClose  \n",
       "0           0.009107  \n",
       "1           0.009107  \n",
       "2           0.009107  \n",
       "3           0.009107  \n",
       "4           0.009107  \n",
       "\n",
       "[5 rows x 55 columns]"
      ]
     },
     "execution_count": 5,
     "metadata": {},
     "output_type": "execute_result"
    }
   ],
   "source": [
    "alldata.head()"
   ]
  },
  {
   "cell_type": "code",
   "execution_count": 6,
   "metadata": {},
   "outputs": [
    {
     "data": {
      "text/plain": [
       "(45449, 55)"
      ]
     },
     "execution_count": 6,
     "metadata": {},
     "output_type": "execute_result"
    }
   ],
   "source": [
    "alldata.shape"
   ]
  },
  {
   "cell_type": "code",
   "execution_count": 7,
   "metadata": {},
   "outputs": [
    {
     "data": {
      "text/plain": [
       "(33622, 55)"
      ]
     },
     "execution_count": 7,
     "metadata": {},
     "output_type": "execute_result"
    }
   ],
   "source": [
    "alldata.dropna(inplace=True)\n",
    "alldata.shape"
   ]
  },
  {
   "cell_type": "code",
   "execution_count": 14,
   "metadata": {},
   "outputs": [
    {
     "data": {
      "text/plain": [
       "array([[<matplotlib.axes._subplots.AxesSubplot object at 0x000002AB06960EB8>,\n",
       "        <matplotlib.axes._subplots.AxesSubplot object at 0x000002AB06CA57F0>],\n",
       "       [<matplotlib.axes._subplots.AxesSubplot object at 0x000002AB071CACC0>,\n",
       "        <matplotlib.axes._subplots.AxesSubplot object at 0x000002AB071F7390>],\n",
       "       [<matplotlib.axes._subplots.AxesSubplot object at 0x000002AB06C5D9E8>,\n",
       "        <matplotlib.axes._subplots.AxesSubplot object at 0x000002AB06C5DA20>]],\n",
       "      dtype=object)"
      ]
     },
     "execution_count": 14,
     "metadata": {},
     "output_type": "execute_result"
    },
    {
     "data": {
      "image/png": "[encoded data removed]",
      "text/plain": [
       "<Figure size 432x288 with 6 Axes>"
      ]
     },
     "metadata": {},
     "output_type": "display_data"
    }
   ],
   "source": [
    "alldata[[\"SPchangeHigh\",\"OilchangeHigh\", 'GoldchangeHigh','IXICchangeHigh', 'DJIchangeHigh','N225changeHigh']].hist(bins=50)"
   ]
  },
  {
   "cell_type": "markdown",
   "metadata": {},
   "source": [
    "## here we find out difference of the price on day befor and after and call it *nextHigh-yestHigh*"
   ]
  },
  {
   "cell_type": "code",
   "execution_count": 10,
   "metadata": {},
   "outputs": [
    {
     "data": {
      "text/plain": [
       "<matplotlib.axes._subplots.AxesSubplot at 0x2ab079c15c0>"
      ]
     },
     "execution_count": 10,
     "metadata": {},
     "output_type": "execute_result"
    },
    {
     "data": {
      "image/png": "[encoded data removed]",
      "text/plain": [
       "<Figure size 432x288 with 1 Axes>"
      ]
     },
     "metadata": {},
     "output_type": "display_data"
    }
   ],
   "source": [
    "alldata[\"nextHigh-yestHigh\"]=alldata[\"nextdayHigh\"]/alldata[\"yesterdayHigh\"]-1\n",
    "alldata=alldata[alldata[\"nextHigh-yestHigh\"]<1]\n",
    "alldata[\"nextHigh-yestHigh\"].hist(bins=50)"
   ]
  },
  {
   "cell_type": "markdown",
   "metadata": {},
   "source": [
    "### if price is increased (positive), then give it \"buy\" tag, otherwise \"sell\" tag"
   ]
  },
  {
   "cell_type": "code",
   "execution_count": 11,
   "metadata": {},
   "outputs": [
    {
     "data": {
      "text/plain": [
       "sell    17141\n",
       "buy     16412\n",
       "Name: tag, dtype: int64"
      ]
     },
     "execution_count": 11,
     "metadata": {},
     "output_type": "execute_result"
    }
   ],
   "source": [
    "def tagmaker2(x):\n",
    "    if x>0:\n",
    "        return \"buy\"\n",
    "    else :\n",
    "        return \"sell\"\n",
    "alldata[\"tag\"]=alldata[\"nextHigh-yestHigh\"].apply(lambda x:tagmaker2(x))\n",
    "alldata[\"tag\"].value_counts()"
   ]
  },
  {
   "cell_type": "markdown",
   "metadata": {},
   "source": [
    "## defining requiered functions"
   ]
  },
  {
   "cell_type": "code",
   "execution_count": 72,
   "metadata": {},
   "outputs": [],
   "source": [
    "def tokenize(text):\n",
    "    '''this method does the following\n",
    "    1. normalizing all the words to lower size\n",
    "    2. removes punctuations\n",
    "    3. splits the words\n",
    "    4. removes the stopwords like am,is,have,you,...\n",
    "    5. lammetizes the words for example running-->run\n",
    "    '''\n",
    "    text = re.sub(r\"[^a-zA-Z0-9]\", \" \", text.lower())    # normalize case and remove punctuation\n",
    "    tokens = word_tokenize(text)    # tokenize text\n",
    "    tokens = [lemmatizer.lemmatize(word) for word in tokens if word not in stop_words]    # lemmatize andremove stop words\n",
    "    return tokens\n",
    "\n",
    "def display_results(y_test, y_pred):\n",
    "    '''\n",
    "    function to display confusion matrix\n",
    "    '''\n",
    "    labels = np.unique(y_pred)\n",
    "    confusion_mat = confusion_matrix(y_test, y_pred, labels=labels)\n",
    "    accuracy = (y_pred == y_test).mean()\n",
    "\n",
    "    print(\"Labels:\", labels)\n",
    "    print(\"Confusion Matrix:\\n\", confusion_mat)\n",
    "    print(\"Accuracy:\", accuracy)\n",
    "    df=pd.DataFrame(metrics.confusion_matrix(y_test,y_pred),index=labels,columns=labels)\n",
    "    return df"
   ]
  },
  {
   "cell_type": "markdown",
   "metadata": {},
   "source": [
    "## defining features and targets"
   ]
  },
  {
   "cell_type": "code",
   "execution_count": 15,
   "metadata": {},
   "outputs": [
    {
     "name": "stdout",
     "output_type": "stream",
     "text": [
      "rows in the original data set: 33553\n",
      "rows in the training set: 26842\n",
      "rows in the test set: 6711\n"
     ]
    }
   ],
   "source": [
    "alldata['desc-title']=alldata['title1']+\" \"+alldata['desc']\n",
    "features=alldata[['desc-title','SPchangeHigh',\"OilchangeHigh\", 'GoldchangeHigh','IXICchangeHigh', 'DJIchangeHigh','N225changeHigh','sector']]\n",
    "target=alldata['tag']\n",
    "X_train, X_test, y_train, y_test = train_test_split(features,target,  random_state=444,test_size=.2)\n",
    "print('rows in the original data set: {}'.format(alldata.shape[0]))\n",
    "print('rows in the training set: {}'.format(X_train.shape[0]))\n",
    "print('rows in the test set: {}'.format(X_test.shape[0]))"
   ]
  },
  {
   "cell_type": "code",
   "execution_count": 17,
   "metadata": {},
   "outputs": [
    {
     "data": {
      "text/html": [
       "<div>\n",
       "<style scoped>\n",
       "    .dataframe tbody tr th:only-of-type {\n",
       "        vertical-align: middle;\n",
       "    }\n",
       "\n",
       "    .dataframe tbody tr th {\n",
       "        vertical-align: top;\n",
       "    }\n",
       "\n",
       "    .dataframe thead th {\n",
       "        text-align: right;\n",
       "    }\n",
       "</style>\n",
       "<table border=\"1\" class=\"dataframe\">\n",
       "  <thead>\n",
       "    <tr style=\"text-align: right;\">\n",
       "      <th></th>\n",
       "      <th>desc-title</th>\n",
       "      <th>SPchangeHigh</th>\n",
       "      <th>OilchangeHigh</th>\n",
       "      <th>GoldchangeHigh</th>\n",
       "      <th>IXICchangeHigh</th>\n",
       "      <th>DJIchangeHigh</th>\n",
       "      <th>N225changeHigh</th>\n",
       "      <th>sector</th>\n",
       "    </tr>\n",
       "  </thead>\n",
       "  <tbody>\n",
       "    <tr>\n",
       "      <th>0</th>\n",
       "      <td>T. Rowe Price sells most of its Tesla shares T...</td>\n",
       "      <td>0.002152</td>\n",
       "      <td>0.005362</td>\n",
       "      <td>0.000897</td>\n",
       "      <td>0.00804</td>\n",
       "      <td>0.001399</td>\n",
       "      <td>0.005411</td>\n",
       "      <td>Finance</td>\n",
       "    </tr>\n",
       "    <tr>\n",
       "      <th>1</th>\n",
       "      <td>Gannett to retain all seats in MNG proxy fight...</td>\n",
       "      <td>0.002152</td>\n",
       "      <td>0.005362</td>\n",
       "      <td>0.000897</td>\n",
       "      <td>0.00804</td>\n",
       "      <td>0.001399</td>\n",
       "      <td>0.005411</td>\n",
       "      <td>Consumer Services</td>\n",
       "    </tr>\n",
       "    <tr>\n",
       "      <th>2</th>\n",
       "      <td>XPO shareholders support exec pay plan, reject...</td>\n",
       "      <td>0.002152</td>\n",
       "      <td>0.005362</td>\n",
       "      <td>0.000897</td>\n",
       "      <td>0.00804</td>\n",
       "      <td>0.001399</td>\n",
       "      <td>0.005411</td>\n",
       "      <td>Consumer Services</td>\n",
       "    </tr>\n",
       "    <tr>\n",
       "      <th>3</th>\n",
       "      <td>MacroGenics +13.1% on new data from breast can...</td>\n",
       "      <td>0.002152</td>\n",
       "      <td>0.005362</td>\n",
       "      <td>0.000897</td>\n",
       "      <td>0.00804</td>\n",
       "      <td>0.001399</td>\n",
       "      <td>0.005411</td>\n",
       "      <td>Health Care</td>\n",
       "    </tr>\n",
       "    <tr>\n",
       "      <th>4</th>\n",
       "      <td>Bunge looks to downsize before growing again, ...</td>\n",
       "      <td>0.002152</td>\n",
       "      <td>0.005362</td>\n",
       "      <td>0.000897</td>\n",
       "      <td>0.00804</td>\n",
       "      <td>0.001399</td>\n",
       "      <td>0.005411</td>\n",
       "      <td>Consumer Non-Durables</td>\n",
       "    </tr>\n",
       "  </tbody>\n",
       "</table>\n",
       "</div>"
      ],
      "text/plain": [
       "                                          desc-title  SPchangeHigh  \\\n",
       "0  T. Rowe Price sells most of its Tesla shares T...      0.002152   \n",
       "1  Gannett to retain all seats in MNG proxy fight...      0.002152   \n",
       "2  XPO shareholders support exec pay plan, reject...      0.002152   \n",
       "3  MacroGenics +13.1% on new data from breast can...      0.002152   \n",
       "4  Bunge looks to downsize before growing again, ...      0.002152   \n",
       "\n",
       "   OilchangeHigh  GoldchangeHigh  IXICchangeHigh  DJIchangeHigh  \\\n",
       "0       0.005362        0.000897         0.00804       0.001399   \n",
       "1       0.005362        0.000897         0.00804       0.001399   \n",
       "2       0.005362        0.000897         0.00804       0.001399   \n",
       "3       0.005362        0.000897         0.00804       0.001399   \n",
       "4       0.005362        0.000897         0.00804       0.001399   \n",
       "\n",
       "   N225changeHigh                 sector  \n",
       "0        0.005411                Finance  \n",
       "1        0.005411      Consumer Services  \n",
       "2        0.005411      Consumer Services  \n",
       "3        0.005411            Health Care  \n",
       "4        0.005411  Consumer Non-Durables  "
      ]
     },
     "execution_count": 17,
     "metadata": {},
     "output_type": "execute_result"
    }
   ],
   "source": [
    "features.head(5)"
   ]
  },
  {
   "cell_type": "code",
   "execution_count": 18,
   "metadata": {},
   "outputs": [
    {
     "data": {
      "text/plain": [
       "0     buy\n",
       "1    sell\n",
       "2     buy\n",
       "3     buy\n",
       "4    sell\n",
       "Name: tag, dtype: object"
      ]
     },
     "execution_count": 18,
     "metadata": {},
     "output_type": "execute_result"
    }
   ],
   "source": [
    "target.head(5)"
   ]
  },
  {
   "cell_type": "markdown",
   "metadata": {},
   "source": [
    "## preprocessing pipeline"
   ]
  },
  {
   "cell_type": "code",
   "execution_count": 19,
   "metadata": {},
   "outputs": [],
   "source": [
    "preprocess = make_column_transformer(\n",
    "    (make_pipeline( CountVectorizer(tokenizer=tokenize),TfidfTransformer()),'desc-title'),\n",
    "    (StandardScaler(),['SPchangeHigh',\"OilchangeHigh\", 'GoldchangeHigh','IXICchangeHigh', 'DJIchangeHigh']),\n",
    "    (OneHotEncoder(),['sector']),\n",
    ")\n",
    "a=preprocess.fit_transform(features)"
   ]
  },
  {
   "cell_type": "code",
   "execution_count": 20,
   "metadata": {},
   "outputs": [
    {
     "data": {
      "text/plain": [
       "(33553, 48373)"
      ]
     },
     "execution_count": 20,
     "metadata": {},
     "output_type": "execute_result"
    }
   ],
   "source": [
    "a.shape"
   ]
  },
  {
   "cell_type": "markdown",
   "metadata": {},
   "source": [
    "## model pipeline"
   ]
  },
  {
   "cell_type": "code",
   "execution_count": 21,
   "metadata": {},
   "outputs": [
    {
     "data": {
      "text/plain": [
       "(26842,)"
      ]
     },
     "execution_count": 21,
     "metadata": {},
     "output_type": "execute_result"
    }
   ],
   "source": [
    "def model_pipeline():\n",
    "    pipeline = Pipeline([\n",
    "        ('process', preprocess),\n",
    "        \n",
    "        ('clf', RandomForestClassifier(random_state = 42))\n",
    "#         ('clf', GradientBoostingClassifier())\n",
    "#         ('clf', MultinomialNB())\n",
    "    ])\n",
    "    return pipeline\n",
    "\n",
    "\n",
    "X_train.shape\n",
    "y_train.shape"
   ]
  },
  {
   "cell_type": "markdown",
   "metadata": {},
   "source": [
    "## fit model"
   ]
  },
  {
   "cell_type": "code",
   "execution_count": 22,
   "metadata": {},
   "outputs": [
    {
     "name": "stderr",
     "output_type": "stream",
     "text": [
      "C:\\anaconda3\\lib\\site-packages\\sklearn\\ensemble\\forest.py:245: FutureWarning: The default value of n_estimators will change from 10 in version 0.20 to 100 in 0.22.\n",
      "  \"10 in version 0.20 to 100 in 0.22.\", FutureWarning)\n"
     ]
    }
   ],
   "source": [
    "model = model_pipeline()\n",
    "model.fit(X_train, y_train);"
   ]
  },
  {
   "cell_type": "markdown",
   "metadata": {},
   "source": [
    "## how model is doing"
   ]
  },
  {
   "cell_type": "code",
   "execution_count": 25,
   "metadata": {},
   "outputs": [
    {
     "data": {
      "text/plain": [
       "array(['buy', 'buy', 'buy', ..., 'sell', 'buy', 'sell'], dtype=object)"
      ]
     },
     "execution_count": 25,
     "metadata": {},
     "output_type": "execute_result"
    }
   ],
   "source": [
    "predictions = model.predict(X_test)\n",
    "predictions "
   ]
  },
  {
   "cell_type": "code",
   "execution_count": 26,
   "metadata": {},
   "outputs": [
    {
     "name": "stdout",
     "output_type": "stream",
     "text": [
      "Labels: ['buy' 'sell']\n",
      "Confusion Matrix:\n",
      " [[2070 1176]\n",
      " [1689 1776]]\n",
      "Accuracy: 0.573088958426464\n"
     ]
    },
    {
     "data": {
      "text/html": [
       "<div>\n",
       "<style scoped>\n",
       "    .dataframe tbody tr th:only-of-type {\n",
       "        vertical-align: middle;\n",
       "    }\n",
       "\n",
       "    .dataframe tbody tr th {\n",
       "        vertical-align: top;\n",
       "    }\n",
       "\n",
       "    .dataframe thead th {\n",
       "        text-align: right;\n",
       "    }\n",
       "</style>\n",
       "<table border=\"1\" class=\"dataframe\">\n",
       "  <thead>\n",
       "    <tr style=\"text-align: right;\">\n",
       "      <th></th>\n",
       "      <th>buy</th>\n",
       "      <th>sell</th>\n",
       "    </tr>\n",
       "  </thead>\n",
       "  <tbody>\n",
       "    <tr>\n",
       "      <th>buy</th>\n",
       "      <td>2070</td>\n",
       "      <td>1176</td>\n",
       "    </tr>\n",
       "    <tr>\n",
       "      <th>sell</th>\n",
       "      <td>1689</td>\n",
       "      <td>1776</td>\n",
       "    </tr>\n",
       "  </tbody>\n",
       "</table>\n",
       "</div>"
      ],
      "text/plain": [
       "       buy  sell\n",
       "buy   2070  1176\n",
       "sell  1689  1776"
      ]
     },
     "execution_count": 26,
     "metadata": {},
     "output_type": "execute_result"
    }
   ],
   "source": [
    "display_results(y_test, predictions)"
   ]
  },
  {
   "cell_type": "code",
   "execution_count": 28,
   "metadata": {},
   "outputs": [
    {
     "name": "stdout",
     "output_type": "stream",
     "text": [
      "              precision    recall  f1-score   support\n",
      "\n",
      "         buy       0.55      0.64      0.59      3246\n",
      "        sell       0.60      0.51      0.55      3465\n",
      "\n",
      "    accuracy                           0.57      6711\n",
      "   macro avg       0.58      0.58      0.57      6711\n",
      "weighted avg       0.58      0.57      0.57      6711\n",
      "\n"
     ]
    }
   ],
   "source": [
    "from sklearn import metrics\n",
    "print(metrics.classification_report(y_test, predictions))"
   ]
  },
  {
   "cell_type": "code",
   "execution_count": 29,
   "metadata": {},
   "outputs": [
    {
     "data": {
      "text/plain": [
       "array([[0.6, 0.4],\n",
       "       [0.6, 0.4],\n",
       "       [0.9, 0.1],\n",
       "       ...,\n",
       "       [0.4, 0.6],\n",
       "       [0.8, 0.2],\n",
       "       [0.4, 0.6]])"
      ]
     },
     "execution_count": 29,
     "metadata": {},
     "output_type": "execute_result"
    }
   ],
   "source": [
    "predictions = model.predict_proba(X_test)\n",
    "predictions "
   ]
  },
  {
   "cell_type": "markdown",
   "metadata": {},
   "source": [
    "## fool data"
   ]
  },
  {
   "cell_type": "code",
   "execution_count": 61,
   "metadata": {},
   "outputs": [],
   "source": [
    "fooldata=pd.read_csv(\"fool.csv\")"
   ]
  },
  {
   "cell_type": "code",
   "execution_count": 60,
   "metadata": {},
   "outputs": [
    {
     "data": {
      "text/html": [
       "<div>\n",
       "<style scoped>\n",
       "    .dataframe tbody tr th:only-of-type {\n",
       "        vertical-align: middle;\n",
       "    }\n",
       "\n",
       "    .dataframe tbody tr th {\n",
       "        vertical-align: top;\n",
       "    }\n",
       "\n",
       "    .dataframe thead th {\n",
       "        text-align: right;\n",
       "    }\n",
       "</style>\n",
       "<table border=\"1\" class=\"dataframe\">\n",
       "  <thead>\n",
       "    <tr style=\"text-align: right;\">\n",
       "      <th></th>\n",
       "      <th>title</th>\n",
       "      <th>price</th>\n",
       "      <th>tag</th>\n",
       "    </tr>\n",
       "  </thead>\n",
       "  <tbody>\n",
       "    <tr>\n",
       "      <th>0</th>\n",
       "      <td>Why Williams-Sonoma Stock Popped Today</td>\n",
       "      <td>Shares of   were up 11% as of 12:00 p.m. EDT F...</td>\n",
       "      <td>False</td>\n",
       "    </tr>\n",
       "    <tr>\n",
       "      <th>1</th>\n",
       "      <td>Why Tailored Brands Stock Dropped 10.5%</td>\n",
       "      <td>Shares of Men's Wearhouse owner  stock  on Fri...</td>\n",
       "      <td>True</td>\n",
       "    </tr>\n",
       "    <tr>\n",
       "      <th>2</th>\n",
       "      <td>Here's Why Mattel Inc Stock Fell Today</td>\n",
       "      <td>Shares of  are down 5.9% at 1:50 p.m. on May 3...</td>\n",
       "      <td>False</td>\n",
       "    </tr>\n",
       "    <tr>\n",
       "      <th>3</th>\n",
       "      <td>Why Dell Technologies Stock Fell Friday</td>\n",
       "      <td>Shares of information technology and computer ...</td>\n",
       "      <td>False</td>\n",
       "    </tr>\n",
       "    <tr>\n",
       "      <th>4</th>\n",
       "      <td>Why Pitney Bowes Stock Dropped 11% on Friday</td>\n",
       "      <td>It's Friday, and shares of postal solutions pr...</td>\n",
       "      <td>True</td>\n",
       "    </tr>\n",
       "  </tbody>\n",
       "</table>\n",
       "</div>"
      ],
      "text/plain": [
       "                                          title  \\\n",
       "0        Why Williams-Sonoma Stock Popped Today   \n",
       "1       Why Tailored Brands Stock Dropped 10.5%   \n",
       "2        Here's Why Mattel Inc Stock Fell Today   \n",
       "3       Why Dell Technologies Stock Fell Friday   \n",
       "4  Why Pitney Bowes Stock Dropped 11% on Friday   \n",
       "\n",
       "                                               price    tag  \n",
       "0  Shares of   were up 11% as of 12:00 p.m. EDT F...  False  \n",
       "1  Shares of Men's Wearhouse owner  stock  on Fri...   True  \n",
       "2  Shares of  are down 5.9% at 1:50 p.m. on May 3...  False  \n",
       "3  Shares of information technology and computer ...  False  \n",
       "4  It's Friday, and shares of postal solutions pr...   True  "
      ]
     },
     "execution_count": 60,
     "metadata": {},
     "output_type": "execute_result"
    }
   ],
   "source": [
    "fooldata.head()"
   ]
  },
  {
   "cell_type": "code",
   "execution_count": 62,
   "metadata": {},
   "outputs": [
    {
     "data": {
      "text/plain": [
       "title       0\n",
       "price     159\n",
       "tag      1174\n",
       "dtype: int64"
      ]
     },
     "execution_count": 62,
     "metadata": {},
     "output_type": "execute_result"
    }
   ],
   "source": [
    "def addTag(str):\n",
    "    if \"Crashing\" in str:\n",
    "        return \"down\"\n",
    "    if \"Got Whacked\" in str:\n",
    "        return \"down\"\n",
    "    if \"Lower\" in str:\n",
    "        return \"down\"\n",
    "    elif \"Crashed\" in str:\n",
    "        return \"down\"\n",
    "    elif \"Lost\" in str:\n",
    "        return \"down\"\n",
    "    elif \"Crushed\" in str:\n",
    "        return \"down\"\n",
    "    elif \"Slumped\" in str:\n",
    "        return \"down\"\n",
    "    elif \"Pop\" in str:\n",
    "        return \"down\"\n",
    "    elif \"Dropped\" in str:\n",
    "        return \"down\"\n",
    "    elif \"Drop\" in str:\n",
    "        return \"down\"\n",
    "    elif \"Fell\" in str:\n",
    "        return \"down\"\n",
    "    elif \"Fall\" in str:\n",
    "        return \"down\"\n",
    "    elif \"Fallen\" in str:\n",
    "        return \"down\"\n",
    "    elif \"Sank\" in str:\n",
    "        return \"down\"\n",
    "    elif \"Destroyed\" in str:\n",
    "        return \"down\"\n",
    "    elif \"Tumbling\" in str:\n",
    "        return \"down\"\n",
    "    elif \"Tumbled\" in str:\n",
    "        return \"down\"\n",
    "    elif \"Plunged\" in str:\n",
    "        return \"down\"\n",
    "    elif \"Plunging\" in str:\n",
    "        return \"down\"\n",
    "    elif \"Plummeted\" in str:\n",
    "        return \"down\"\n",
    "    elif \"Surge on Debt\" in str:\n",
    "        return \"down\"\n",
    "    elif \"Down\" in str:\n",
    "        return \"down\"\n",
    "    elif \"Slipping\" in str:\n",
    "        return \"down\"\n",
    "    elif \"Slipped\" in str:\n",
    "        return \"down\"\n",
    "    elif \"Surged\" in str:\n",
    "        return \"down\"\n",
    "    elif \"Lower\" in str:\n",
    "        return \"down\"\n",
    "    elif \"Crash\" in str:\n",
    "        return \"down\"\n",
    "    elif \"Tanking\" in str:\n",
    "        return \"down\"\n",
    "    elif \"Out of Fashion\" in str:\n",
    "        return \"down\"\n",
    "    elif \"Sinking\" in str:\n",
    "        return \"down\"\n",
    "    elif \"Tanking\" in str:\n",
    "        return \"down\"\n",
    "    elif \"Hammered\" in str:\n",
    "        return \"down\"\n",
    "    elif \"Hammerring\" in str:\n",
    "        return \"down\"\n",
    "    elif \"Slammed\" in str:\n",
    "        return \"down\"\n",
    "    elif \"Slamming\" in str:\n",
    "        return \"down\"\n",
    "    elif \"Imploding\" in str:\n",
    "        return \"down\"\n",
    "    elif \"Cratered\" in str:\n",
    "        return \"down\"\n",
    "    elif \"Cratering\" in str:\n",
    "        return \"down\"\n",
    "    elif \"Sliding\" in str:\n",
    "        return \"down\"\n",
    "    elif \"Roller Coaster\" in str:\n",
    "        return \"down\"\n",
    "    elif \"Were Down\" in str:\n",
    "        return \"down\"\n",
    "    elif \"Dove\" in str:\n",
    "        return \"down\"\n",
    "    elif \"in the Doghouse\" in str:\n",
    "        return \"down\"\n",
    "    elif \"Slumping\" in str:\n",
    "        return \"down\"\n",
    "    elif \"Slumped\" in str:\n",
    "        return \"down\"\n",
    "    elif \"Collapsing\" in str:\n",
    "        return \"down\"\n",
    "    elif \"Collapsed\" in str:\n",
    "        return \"down\"\n",
    "    elif \"Getting Walloped\" in str:\n",
    "        return \"down\"\n",
    "    elif \"Mauled\" in str:\n",
    "        return \"down\"\n",
    "    elif \"Tanked\" in str:\n",
    "        return \"down\"\n",
    "    elif \"Fizzled\" in str:\n",
    "        return \"down\"\n",
    "    elif \"Plummeting\" in str:\n",
    "        return \"down\"\n",
    "    elif \"Stumbled\" in str:\n",
    "        return \"down\"\n",
    "    elif \"Smashed\" in str:\n",
    "        return \"down\"\n",
    "    elif \"Slid\" in str:\n",
    "        return \"down\"\n",
    "    elif \"Rough Day\" in str:\n",
    "        return \"down\"\n",
    "    elif \"Slides\" in str:\n",
    "        return \"down\"\n",
    "    elif \"Under Pressure\" in str:\n",
    "        return \"down\"\n",
    "    elif \"Shrugged Off\" in str:\n",
    "        return \"down\"\n",
    "    elif \"Declined\" in str:\n",
    "        return \"down\"\n",
    "    elif \"Fading\" in str:\n",
    "        return \"down\"\n",
    "    elif \"Sink\" in str:\n",
    "        return \"down\"\n",
    "    elif \"Moving in Opposite Directions\" in str:\n",
    "        return \"down\"\n",
    "    elif \"Hit the Skids\" in str:\n",
    "        return \"down\"\n",
    "    elif \"Dip\" in str:\n",
    "        return \"down\"\n",
    "    elif \"Broke Out\" in str:\n",
    "        return \"down\"\n",
    "    elif \"Setback\" in str:\n",
    "        return \"down\"\n",
    "    elif \"Caught Fire\" in str:\n",
    "        return \"down\"\n",
    "    elif \"Buckled\" in str:\n",
    "        return \"down\"\n",
    "    elif \"Lose\" in str:\n",
    "        return \"down\"\n",
    "    elif \"Gave Back Its Gains\" in str:\n",
    "        return \"down\"\n",
    "    elif \"Got Dumped\" in str:\n",
    "        return \"down\"\n",
    "    elif \"Weighed on\" in str:\n",
    "        return \"down\"\n",
    "    elif \"Getting Thrashed\" in str:\n",
    "        return \"down\"\n",
    "    elif \"Tank\" in str:\n",
    "        return \"down\"\n",
    "    elif \"Tumble\" in str:\n",
    "        return \"down\"\n",
    "    elif \"Taking a Beating\" in str:\n",
    "        return \"down\"\n",
    "    elif \"Derailed\" in str:\n",
    "        return \"down\"\n",
    "    elif \"Plunge\" in str:\n",
    "        return \"down\"\n",
    "    elif \"Stumbling\" in str:\n",
    "        return \"down\"\n",
    "    elif \"Imploded\" in str:\n",
    "        return \"down\"\n",
    "    elif \"Losing\" in str:\n",
    "        return \"down\"\n",
    "    elif \"Nosediving\" in str:\n",
    "        return \"down\"\n",
    "    elif \"Bad Day\" in str:\n",
    "        return \"down\"\n",
    "\n",
    "\n",
    "    elif \"Soared\" in str:\n",
    "        return \"up\"\n",
    "    elif \"Looks Gorgeous\" in str:\n",
    "        return \"up\"\n",
    "    elif \"Leapt\" in str:\n",
    "        return \"up\"\n",
    "    elif \"Leaping\" in str:\n",
    "        return \"up\"\n",
    "    elif \"Soars\" in str:\n",
    "        return \"up\"\n",
    "    elif \"Soaring\" in str:\n",
    "        return \"up\"\n",
    "    elif \"Jumped\" in str:\n",
    "        return \"up\"\n",
    "    elif \"Climbed\" in str:\n",
    "        return \"up\"\n",
    "    elif \"Rose\" in str:\n",
    "        return \"up\"\n",
    "    elif \"Rising\" in str:\n",
    "        return \"up\"\n",
    "    elif \"Gained\" in str:\n",
    "        return \"up\"\n",
    "    elif \"Skyrocketed\" in str:\n",
    "        return \"up\"\n",
    "    elif \"Skyrocketing\" in str:\n",
    "        return \"up\"\n",
    "    elif \"Rocketed\" in str:\n",
    "        return \"up\"\n",
    "    elif \"Upswing\" in str:\n",
    "        return \"up\"\n",
    "    elif \"Popped\" in str:\n",
    "        return \"up\"\n",
    "    elif \"Are Up\" in str:\n",
    "        return \"up\"\n",
    "    elif \"Are Higher\" in str:\n",
    "        return \"up\"\n",
    "    elif \"Took Off\" in str:\n",
    "        return \"up\"\n",
    "    elif \"Climbing\" in str:\n",
    "        return \"up\"\n",
    "    elif \"Spiked\" in str:\n",
    "        return \"up\"\n",
    "    elif \"Heating Up\" in str:\n",
    "        return \"up\"\n",
    "    elif \"Gaining\" in str:\n",
    "        return \"up\"\n",
    "    elif \"Surging\" in str:\n",
    "        return \"up\"\n",
    "    elif \"Trading Higher\" in str:\n",
    "        return \"up\"\n",
    "    elif \"Flying Higher\" in str:\n",
    "        return \"up\"\n",
    "    elif \"Were Up\" in str:\n",
    "        return \"up\"\n",
    "    elif \"Moving Higher\" in str:\n",
    "        return \"up\"\n",
    "    elif \"Jumping\" in str:\n",
    "        return \"up\"\n",
    "    elif \"Higher\" in str:\n",
    "        return \"up\"\n",
    "    elif \"Is on the Move\" in str:\n",
    "        return \"up\"\n",
    "    elif \"on the Rise\" in str:\n",
    "        return \"up\"\n",
    "    elif \"Accelerating\" in str:\n",
    "        return \"up\"\n",
    "    elif \"Soar\" in str:\n",
    "        return \"up\"\n",
    "    elif \"Doubled\" in str:\n",
    "        return \"up\"\n",
    "    elif \"Doubling\" in str:\n",
    "        return \"up\"\n",
    "    elif \"Took a Hit\" in str:\n",
    "        return \"up\"\n",
    "    elif \"Up\" in str:\n",
    "        return \"up\"\n",
    "    elif \"Took Flight\" in str:\n",
    "        return \"up\"\n",
    "    elif \"Rebounded\" in str:\n",
    "        return \"up\"\n",
    "    elif \"Rallied\" in str:\n",
    "        return \"up\"\n",
    "    elif \"Leaped\" in str:\n",
    "        return \"up\"\n",
    "    elif \"Advanced\" in str:\n",
    "        return \"up\"\n",
    "    elif \"Bounced\" in str:\n",
    "        return \"up\"\n",
    "    elif \"What We Learned\" in str:\n",
    "        return \"dont\"\n",
    "    elif \"Is On Fire\" in str:\n",
    "        return \"up\"\n",
    "    elif \"Jump\" in str:\n",
    "        return \"up\"\n",
    "    elif \"Hit the Sky\" in str:\n",
    "        return \"up\"\n",
    "    elif \"Skyrocket\" in str:\n",
    "        return \"up\"\n",
    "    elif \"Rallying\" in str:\n",
    "        return \"up\"\n",
    "    elif \"Got Cut in Half\" in str:\n",
    "        return \"down\"\n",
    "    elif \"Hit Vail\" in str:\n",
    "        return \"down\"\n",
    "    elif \"Obliterated\" in str:\n",
    "        return \"down\"\n",
    "    elif \"Decline\" in str:\n",
    "        return \"down\"\n",
    "    elif \"Swooned\" in str:\n",
    "        return \"down\"\n",
    "    elif \"Struggled\" in str:\n",
    "        return \"down\"\n",
    "    elif \"Crushing\" in str:\n",
    "        return \"down\"\n",
    "\n",
    "    elif \"Roaring\" in str:\n",
    "        return \"up\"\n",
    "    elif \"Rally\" in str:\n",
    "        return \"up\"\n",
    "    elif \"Rise\" in str:\n",
    "        return \"up\"\n",
    "    elif \"Rebounding\" in str:\n",
    "        return \"up\"\n",
    "    elif \"Bouncing Back\" in str:\n",
    "        return \"up\"\n",
    "    elif \"Good Day\" in str:\n",
    "        return \"up\"\n",
    "    elif \"Making Gains\" in str:\n",
    "        return \"up\"\n",
    "    elif \"Got a Lift\" in str:\n",
    "        return \"up\"\n",
    "    elif \"Spiking\" in str:\n",
    "        return \"up\"\n",
    "    elif \"Surge\" in str:\n",
    "        return \"up\"\n",
    "    elif \"Accelerates\" in str:\n",
    "        return \"up\"\n",
    "    elif \"Rocketing\" in str:\n",
    "        return \"up\"\n",
    "    elif \"Ascend\" in str:\n",
    "        return \"up\"\n",
    "    elif \"Cheering\" in str:\n",
    "        return \"up\"\n",
    "    elif \"Surge\" in str:\n",
    "        return \"up\"\n",
    "\n",
    "\n",
    "    # elif \"Strong Buy\" in str:\n",
    "    #     return \"dont\"\n",
    "    # \n",
    "    # elif \"What Happened\" in str:\n",
    "    #     return \"dont\"\n",
    "    # elif \"Sharp Reversal Warranted\" in str:\n",
    "    #     return \"dont\"\n",
    "    # elif \"Quadrupled Then Halved\" in str:\n",
    "    #     return \"dont\"\n",
    "fooldata[\"tag\"]=fooldata[\"title\"].apply(lambda x:addTag(x) )\n",
    "fooldata.isnull().sum()\n"
   ]
  },
  {
   "cell_type": "code",
   "execution_count": 63,
   "metadata": {},
   "outputs": [
    {
     "data": {
      "text/plain": [
       "title    0\n",
       "price    0\n",
       "tag      0\n",
       "dtype: int64"
      ]
     },
     "execution_count": 63,
     "metadata": {},
     "output_type": "execute_result"
    }
   ],
   "source": [
    "fooldata.dropna(inplace=True,axis=0)\n",
    "fooldata.isnull().sum()"
   ]
  },
  {
   "cell_type": "code",
   "execution_count": 64,
   "metadata": {},
   "outputs": [
    {
     "data": {
      "text/plain": [
       "(14268, 3)"
      ]
     },
     "execution_count": 64,
     "metadata": {},
     "output_type": "execute_result"
    }
   ],
   "source": [
    "fooldata.shape"
   ]
  },
  {
   "cell_type": "code",
   "execution_count": 65,
   "metadata": {},
   "outputs": [
    {
     "data": {
      "text/plain": [
       "Index(['title', 'price', 'tag'], dtype='object')"
      ]
     },
     "execution_count": 65,
     "metadata": {},
     "output_type": "execute_result"
    }
   ],
   "source": [
    "fooldata.columns"
   ]
  },
  {
   "cell_type": "code",
   "execution_count": 66,
   "metadata": {},
   "outputs": [],
   "source": [
    "fooldata = fooldata.rename(columns={'price': 'desc'})"
   ]
  },
  {
   "cell_type": "code",
   "execution_count": 67,
   "metadata": {},
   "outputs": [
    {
     "data": {
      "text/plain": [
       "Index(['title', 'desc', 'tag'], dtype='object')"
      ]
     },
     "execution_count": 67,
     "metadata": {},
     "output_type": "execute_result"
    }
   ],
   "source": [
    "fooldata.columns"
   ]
  },
  {
   "cell_type": "code",
   "execution_count": 78,
   "metadata": {},
   "outputs": [
    {
     "name": "stdout",
     "output_type": "stream",
     "text": [
      "rows in the original data set: 14268\n",
      "rows in the training set: 11414\n",
      "rows in the test set: 2854\n"
     ]
    }
   ],
   "source": [
    "\n",
    "features=fooldata[\"desc\"]\n",
    "target=fooldata['tag']\n",
    "X_train, X_test, y_train, y_test = train_test_split(features,target,random_state=222,test_size=.2)\n",
    "print('rows in the original data set: {}'.format(fooldata.shape[0]))\n",
    "print('rows in the training set: {}'.format(X_train.shape[0]))\n",
    "print('rows in the test set: {}'.format(X_test.shape[0]))"
   ]
  },
  {
   "cell_type": "code",
   "execution_count": 84,
   "metadata": {},
   "outputs": [
    {
     "name": "stdout",
     "output_type": "stream",
     "text": [
      "(11414,)\n",
      "(11414,)\n"
     ]
    }
   ],
   "source": [
    "def model_pipeline():\n",
    "    pipeline = Pipeline([\n",
    "        ('vect', CountVectorizer(tokenizer=tokenize)),\n",
    "        ('tfidf', TfidfTransformer()),\n",
    "        ('clf', RandomForestClassifier(random_state = 42)),\n",
    "#         ('clf', GradientBoostingClassifier())\n",
    "#         ('clf', MultinomialNB())\n",
    "    ])\n",
    "    return pipeline\n",
    "\n",
    "\n",
    "model_pipeline = model_pipeline()\n",
    "print(X_train.shape)\n",
    "print(y_train.shape)"
   ]
  },
  {
   "cell_type": "code",
   "execution_count": 85,
   "metadata": {},
   "outputs": [
    {
     "data": {
      "text/plain": [
       "\"Image source: Square.Shares of mobile payment processor  are getting crushed today, down by 20% as of 11:20 a.m. ET, after the company reported disappointing first-quarter earnings amid rising costs. Adjusted revenue in the first quarter came in at $146 million, up 64% year over year. That was driven by higher gross payment volume of $10.3 billion, which was in turn driven by growth within the existing seller base. That all translated into a net loss of $96.8 million, or $0.29 per share, far below analysts' expectations of $0.09 per share in red ink.Operating expenses soared a gut-wrenching 72% to $207 million in the first quarter. However, $50 million of that total was attributable to a non-recurring litigation accrual. But even without that charge, the bottom line would have still fallen short of investor expectations. As far as guidance goes, second-quarter adjusted revenue is expected to be $151 million to $156 million. For the full year, adjusted revenue should be $615 million to $635 million, with adjusted EBITDA of $8 million to $14 million.\""
      ]
     },
     "execution_count": 85,
     "metadata": {},
     "output_type": "execute_result"
    }
   ],
   "source": [
    "X_train.head().iloc[0]"
   ]
  },
  {
   "cell_type": "code",
   "execution_count": 87,
   "metadata": {},
   "outputs": [
    {
     "ename": "ValueError",
     "evalue": "Specifying the columns using strings is only supported for pandas DataFrames",
     "traceback": [
      "\u001b[1;31m---------------------------------------------------------------------------\u001b[0m",
      "\u001b[1;31mAttributeError\u001b[0m                            Traceback (most recent call last)",
      "\u001b[1;32mC:\\anaconda3\\lib\\site-packages\\sklearn\\compose\\_column_transformer.py\u001b[0m in \u001b[0;36m_get_column_indices\u001b[1;34m(X, key)\u001b[0m\n\u001b[0;32m    656\u001b[0m         \u001b[1;32mtry\u001b[0m\u001b[1;33m:\u001b[0m\u001b[1;33m\u001b[0m\u001b[0m\n\u001b[1;32m--> 657\u001b[1;33m             \u001b[0mall_columns\u001b[0m \u001b[1;33m=\u001b[0m \u001b[0mlist\u001b[0m\u001b[1;33m(\u001b[0m\u001b[0mX\u001b[0m\u001b[1;33m.\u001b[0m\u001b[0mcolumns\u001b[0m\u001b[1;33m)\u001b[0m\u001b[1;33m\u001b[0m\u001b[0m\n\u001b[0m\u001b[0;32m    658\u001b[0m         \u001b[1;32mexcept\u001b[0m \u001b[0mAttributeError\u001b[0m\u001b[1;33m:\u001b[0m\u001b[1;33m\u001b[0m\u001b[0m\n",
      "\u001b[1;31mAttributeError\u001b[0m: 'numpy.ndarray' object has no attribute 'columns'",
      "\nDuring handling of the above exception, another exception occurred:\n",
      "\u001b[1;31mValueError\u001b[0m                                Traceback (most recent call last)",
      "\u001b[1;32m<ipython-input-87-100327a8c7b6>\u001b[0m in \u001b[0;36m<module>\u001b[1;34m()\u001b[0m\n\u001b[1;32m----> 1\u001b[1;33m \u001b[0mmodel\u001b[0m\u001b[1;33m.\u001b[0m\u001b[0mfit\u001b[0m\u001b[1;33m(\u001b[0m\u001b[0mX_train\u001b[0m\u001b[1;33m[\u001b[0m\u001b[1;33m:\u001b[0m\u001b[1;33m,\u001b[0m\u001b[0mnp\u001b[0m\u001b[1;33m.\u001b[0m\u001b[0mnewaxis\u001b[0m\u001b[1;33m]\u001b[0m\u001b[1;33m,\u001b[0m \u001b[0my_train\u001b[0m\u001b[1;33m)\u001b[0m\u001b[1;33m;\u001b[0m\u001b[1;33m\u001b[0m\u001b[0m\n\u001b[0m",
      "\u001b[1;32mC:\\anaconda3\\lib\\site-packages\\sklearn\\pipeline.py\u001b[0m in \u001b[0;36mfit\u001b[1;34m(self, X, y, **fit_params)\u001b[0m\n\u001b[0;32m    350\u001b[0m             \u001b[0mThis\u001b[0m \u001b[0mestimator\u001b[0m\u001b[1;33m\u001b[0m\u001b[0m\n\u001b[0;32m    351\u001b[0m         \"\"\"\n\u001b[1;32m--> 352\u001b[1;33m         \u001b[0mXt\u001b[0m\u001b[1;33m,\u001b[0m \u001b[0mfit_params\u001b[0m \u001b[1;33m=\u001b[0m \u001b[0mself\u001b[0m\u001b[1;33m.\u001b[0m\u001b[0m_fit\u001b[0m\u001b[1;33m(\u001b[0m\u001b[0mX\u001b[0m\u001b[1;33m,\u001b[0m \u001b[0my\u001b[0m\u001b[1;33m,\u001b[0m \u001b[1;33m**\u001b[0m\u001b[0mfit_params\u001b[0m\u001b[1;33m)\u001b[0m\u001b[1;33m\u001b[0m\u001b[0m\n\u001b[0m\u001b[0;32m    353\u001b[0m         with _print_elapsed_time('Pipeline',\n\u001b[0;32m    354\u001b[0m                                  self._log_message(len(self.steps) - 1)):\n",
      "\u001b[1;32mC:\\anaconda3\\lib\\site-packages\\sklearn\\pipeline.py\u001b[0m in \u001b[0;36m_fit\u001b[1;34m(self, X, y, **fit_params)\u001b[0m\n\u001b[0;32m    315\u001b[0m                 \u001b[0mmessage_clsname\u001b[0m\u001b[1;33m=\u001b[0m\u001b[1;34m'Pipeline'\u001b[0m\u001b[1;33m,\u001b[0m\u001b[1;33m\u001b[0m\u001b[0m\n\u001b[0;32m    316\u001b[0m                 \u001b[0mmessage\u001b[0m\u001b[1;33m=\u001b[0m\u001b[0mself\u001b[0m\u001b[1;33m.\u001b[0m\u001b[0m_log_message\u001b[0m\u001b[1;33m(\u001b[0m\u001b[0mstep_idx\u001b[0m\u001b[1;33m)\u001b[0m\u001b[1;33m,\u001b[0m\u001b[1;33m\u001b[0m\u001b[0m\n\u001b[1;32m--> 317\u001b[1;33m                 **fit_params_steps[name])\n\u001b[0m\u001b[0;32m    318\u001b[0m             \u001b[1;31m# Replace the transformer of the step with the fitted\u001b[0m\u001b[1;33m\u001b[0m\u001b[1;33m\u001b[0m\u001b[0m\n\u001b[0;32m    319\u001b[0m             \u001b[1;31m# transformer. This is necessary when loading the transformer\u001b[0m\u001b[1;33m\u001b[0m\u001b[1;33m\u001b[0m\u001b[0m\n",
      "\u001b[1;32mC:\\anaconda3\\lib\\site-packages\\joblib\\memory.py\u001b[0m in \u001b[0;36m__call__\u001b[1;34m(self, *args, **kwargs)\u001b[0m\n\u001b[0;32m    353\u001b[0m \u001b[1;33m\u001b[0m\u001b[0m\n\u001b[0;32m    354\u001b[0m     \u001b[1;32mdef\u001b[0m \u001b[0m__call__\u001b[0m\u001b[1;33m(\u001b[0m\u001b[0mself\u001b[0m\u001b[1;33m,\u001b[0m \u001b[1;33m*\u001b[0m\u001b[0margs\u001b[0m\u001b[1;33m,\u001b[0m \u001b[1;33m**\u001b[0m\u001b[0mkwargs\u001b[0m\u001b[1;33m)\u001b[0m\u001b[1;33m:\u001b[0m\u001b[1;33m\u001b[0m\u001b[0m\n\u001b[1;32m--> 355\u001b[1;33m         \u001b[1;32mreturn\u001b[0m \u001b[0mself\u001b[0m\u001b[1;33m.\u001b[0m\u001b[0mfunc\u001b[0m\u001b[1;33m(\u001b[0m\u001b[1;33m*\u001b[0m\u001b[0margs\u001b[0m\u001b[1;33m,\u001b[0m \u001b[1;33m**\u001b[0m\u001b[0mkwargs\u001b[0m\u001b[1;33m)\u001b[0m\u001b[1;33m\u001b[0m\u001b[0m\n\u001b[0m\u001b[0;32m    356\u001b[0m \u001b[1;33m\u001b[0m\u001b[0m\n\u001b[0;32m    357\u001b[0m     \u001b[1;32mdef\u001b[0m \u001b[0mcall_and_shelve\u001b[0m\u001b[1;33m(\u001b[0m\u001b[0mself\u001b[0m\u001b[1;33m,\u001b[0m \u001b[1;33m*\u001b[0m\u001b[0margs\u001b[0m\u001b[1;33m,\u001b[0m \u001b[1;33m**\u001b[0m\u001b[0mkwargs\u001b[0m\u001b[1;33m)\u001b[0m\u001b[1;33m:\u001b[0m\u001b[1;33m\u001b[0m\u001b[0m\n",
      "\u001b[1;32mC:\\anaconda3\\lib\\site-packages\\sklearn\\pipeline.py\u001b[0m in \u001b[0;36m_fit_transform_one\u001b[1;34m(transformer, X, y, weight, message_clsname, message, **fit_params)\u001b[0m\n\u001b[0;32m    714\u001b[0m     \u001b[1;32mwith\u001b[0m \u001b[0m_print_elapsed_time\u001b[0m\u001b[1;33m(\u001b[0m\u001b[0mmessage_clsname\u001b[0m\u001b[1;33m,\u001b[0m \u001b[0mmessage\u001b[0m\u001b[1;33m)\u001b[0m\u001b[1;33m:\u001b[0m\u001b[1;33m\u001b[0m\u001b[0m\n\u001b[0;32m    715\u001b[0m         \u001b[1;32mif\u001b[0m \u001b[0mhasattr\u001b[0m\u001b[1;33m(\u001b[0m\u001b[0mtransformer\u001b[0m\u001b[1;33m,\u001b[0m \u001b[1;34m'fit_transform'\u001b[0m\u001b[1;33m)\u001b[0m\u001b[1;33m:\u001b[0m\u001b[1;33m\u001b[0m\u001b[0m\n\u001b[1;32m--> 716\u001b[1;33m             \u001b[0mres\u001b[0m \u001b[1;33m=\u001b[0m \u001b[0mtransformer\u001b[0m\u001b[1;33m.\u001b[0m\u001b[0mfit_transform\u001b[0m\u001b[1;33m(\u001b[0m\u001b[0mX\u001b[0m\u001b[1;33m,\u001b[0m \u001b[0my\u001b[0m\u001b[1;33m,\u001b[0m \u001b[1;33m**\u001b[0m\u001b[0mfit_params\u001b[0m\u001b[1;33m)\u001b[0m\u001b[1;33m\u001b[0m\u001b[0m\n\u001b[0m\u001b[0;32m    717\u001b[0m         \u001b[1;32melse\u001b[0m\u001b[1;33m:\u001b[0m\u001b[1;33m\u001b[0m\u001b[0m\n\u001b[0;32m    718\u001b[0m             \u001b[0mres\u001b[0m \u001b[1;33m=\u001b[0m \u001b[0mtransformer\u001b[0m\u001b[1;33m.\u001b[0m\u001b[0mfit\u001b[0m\u001b[1;33m(\u001b[0m\u001b[0mX\u001b[0m\u001b[1;33m,\u001b[0m \u001b[0my\u001b[0m\u001b[1;33m,\u001b[0m \u001b[1;33m**\u001b[0m\u001b[0mfit_params\u001b[0m\u001b[1;33m)\u001b[0m\u001b[1;33m.\u001b[0m\u001b[0mtransform\u001b[0m\u001b[1;33m(\u001b[0m\u001b[0mX\u001b[0m\u001b[1;33m)\u001b[0m\u001b[1;33m\u001b[0m\u001b[0m\n",
      "\u001b[1;32mC:\\anaconda3\\lib\\site-packages\\sklearn\\compose\\_column_transformer.py\u001b[0m in \u001b[0;36mfit_transform\u001b[1;34m(self, X, y)\u001b[0m\n\u001b[0;32m    464\u001b[0m         \u001b[0mself\u001b[0m\u001b[1;33m.\u001b[0m\u001b[0m_validate_transformers\u001b[0m\u001b[1;33m(\u001b[0m\u001b[1;33m)\u001b[0m\u001b[1;33m\u001b[0m\u001b[0m\n\u001b[0;32m    465\u001b[0m         \u001b[0mself\u001b[0m\u001b[1;33m.\u001b[0m\u001b[0m_validate_column_callables\u001b[0m\u001b[1;33m(\u001b[0m\u001b[0mX\u001b[0m\u001b[1;33m)\u001b[0m\u001b[1;33m\u001b[0m\u001b[0m\n\u001b[1;32m--> 466\u001b[1;33m         \u001b[0mself\u001b[0m\u001b[1;33m.\u001b[0m\u001b[0m_validate_remainder\u001b[0m\u001b[1;33m(\u001b[0m\u001b[0mX\u001b[0m\u001b[1;33m)\u001b[0m\u001b[1;33m\u001b[0m\u001b[0m\n\u001b[0m\u001b[0;32m    467\u001b[0m \u001b[1;33m\u001b[0m\u001b[0m\n\u001b[0;32m    468\u001b[0m         \u001b[0mresult\u001b[0m \u001b[1;33m=\u001b[0m \u001b[0mself\u001b[0m\u001b[1;33m.\u001b[0m\u001b[0m_fit_transform\u001b[0m\u001b[1;33m(\u001b[0m\u001b[0mX\u001b[0m\u001b[1;33m,\u001b[0m \u001b[0my\u001b[0m\u001b[1;33m,\u001b[0m \u001b[0m_fit_transform_one\u001b[0m\u001b[1;33m)\u001b[0m\u001b[1;33m\u001b[0m\u001b[0m\n",
      "\u001b[1;32mC:\\anaconda3\\lib\\site-packages\\sklearn\\compose\\_column_transformer.py\u001b[0m in \u001b[0;36m_validate_remainder\u001b[1;34m(self, X)\u001b[0m\n\u001b[0;32m    306\u001b[0m         \u001b[0mcols\u001b[0m \u001b[1;33m=\u001b[0m \u001b[1;33m[\u001b[0m\u001b[1;33m]\u001b[0m\u001b[1;33m\u001b[0m\u001b[0m\n\u001b[0;32m    307\u001b[0m         \u001b[1;32mfor\u001b[0m \u001b[0mcolumns\u001b[0m \u001b[1;32min\u001b[0m \u001b[0mself\u001b[0m\u001b[1;33m.\u001b[0m\u001b[0m_columns\u001b[0m\u001b[1;33m:\u001b[0m\u001b[1;33m\u001b[0m\u001b[0m\n\u001b[1;32m--> 308\u001b[1;33m             \u001b[0mcols\u001b[0m\u001b[1;33m.\u001b[0m\u001b[0mextend\u001b[0m\u001b[1;33m(\u001b[0m\u001b[0m_get_column_indices\u001b[0m\u001b[1;33m(\u001b[0m\u001b[0mX\u001b[0m\u001b[1;33m,\u001b[0m \u001b[0mcolumns\u001b[0m\u001b[1;33m)\u001b[0m\u001b[1;33m)\u001b[0m\u001b[1;33m\u001b[0m\u001b[0m\n\u001b[0m\u001b[0;32m    309\u001b[0m         \u001b[0mremaining_idx\u001b[0m \u001b[1;33m=\u001b[0m \u001b[0msorted\u001b[0m\u001b[1;33m(\u001b[0m\u001b[0mlist\u001b[0m\u001b[1;33m(\u001b[0m\u001b[0mset\u001b[0m\u001b[1;33m(\u001b[0m\u001b[0mrange\u001b[0m\u001b[1;33m(\u001b[0m\u001b[0mn_columns\u001b[0m\u001b[1;33m)\u001b[0m\u001b[1;33m)\u001b[0m \u001b[1;33m-\u001b[0m \u001b[0mset\u001b[0m\u001b[1;33m(\u001b[0m\u001b[0mcols\u001b[0m\u001b[1;33m)\u001b[0m\u001b[1;33m)\u001b[0m\u001b[1;33m)\u001b[0m \u001b[1;32mor\u001b[0m \u001b[1;32mNone\u001b[0m\u001b[1;33m\u001b[0m\u001b[0m\n\u001b[0;32m    310\u001b[0m \u001b[1;33m\u001b[0m\u001b[0m\n",
      "\u001b[1;32mC:\\anaconda3\\lib\\site-packages\\sklearn\\compose\\_column_transformer.py\u001b[0m in \u001b[0;36m_get_column_indices\u001b[1;34m(X, key)\u001b[0m\n\u001b[0;32m    657\u001b[0m             \u001b[0mall_columns\u001b[0m \u001b[1;33m=\u001b[0m \u001b[0mlist\u001b[0m\u001b[1;33m(\u001b[0m\u001b[0mX\u001b[0m\u001b[1;33m.\u001b[0m\u001b[0mcolumns\u001b[0m\u001b[1;33m)\u001b[0m\u001b[1;33m\u001b[0m\u001b[0m\n\u001b[0;32m    658\u001b[0m         \u001b[1;32mexcept\u001b[0m \u001b[0mAttributeError\u001b[0m\u001b[1;33m:\u001b[0m\u001b[1;33m\u001b[0m\u001b[0m\n\u001b[1;32m--> 659\u001b[1;33m             raise ValueError(\"Specifying the columns using strings is only \"\n\u001b[0m\u001b[0;32m    660\u001b[0m                              \"supported for pandas DataFrames\")\n\u001b[0;32m    661\u001b[0m         \u001b[1;32mif\u001b[0m \u001b[0misinstance\u001b[0m\u001b[1;33m(\u001b[0m\u001b[0mkey\u001b[0m\u001b[1;33m,\u001b[0m \u001b[0mstr\u001b[0m\u001b[1;33m)\u001b[0m\u001b[1;33m:\u001b[0m\u001b[1;33m\u001b[0m\u001b[0m\n",
      "\u001b[1;31mValueError\u001b[0m: Specifying the columns using strings is only supported for pandas DataFrames"
     ],
     "output_type": "error"
    }
   ],
   "source": [
    "model.fit(X_train[:,np.newaxis], y_train);"
   ]
  },
  {
   "cell_type": "code",
   "execution_count": null,
   "metadata": {},
   "outputs": [],
   "source": []
  }
 ],
 "metadata": {
  "kernelspec": {
   "display_name": "Python 3",
   "language": "python",
   "name": "python3"
  },
  "language_info": {
   "codemirror_mode": {
    "name": "ipython",
    "version": 3
   },
   "file_extension": ".py",
   "mimetype": "text/x-python",
   "name": "python",
   "nbconvert_exporter": "python",
   "pygments_lexer": "ipython3",
   "version": "3.6.5"
  }
 },
 "nbformat": 4,
 "nbformat_minor": 2
}
